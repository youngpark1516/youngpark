{
 "cells": [
  {
   "cell_type": "code",
   "execution_count": 3,
   "metadata": {},
   "outputs": [
    {
     "name": "stdout",
     "output_type": "stream",
     "text": [
      "[[' ' ' ' ' ' ' ' '*' '<' '*' '<' '*']\n",
      " [' ' ' ' ' ' ' ' 'v' ' ' ' ' ' ' '^']\n",
      " [' ' ' ' ' ' ' ' '*' ' ' '*' '>' '*']\n",
      " [' ' ' ' ' ' ' ' 'v' ' ' '^' ' ' ' ']\n",
      " [' ' ' ' ' ' ' ' '*' ' ' '*' ' ' ' ']\n",
      " [' ' ' ' ' ' ' ' 'v' ' ' '^' ' ' ' ']\n",
      " [' ' ' ' ' ' ' ' '@' ' ' '*' ' ' ' ']\n",
      " [' ' ' ' ' ' ' ' 'v' ' ' '^' ' ' ' ']\n",
      " [' ' ' ' ' ' ' ' '*' ' ' '*' ' ' ' ']\n",
      " [' ' ' ' ' ' ' ' 'v' ' ' '^' ' ' ' ']\n",
      " ['*' '<' '*' '<' '*' ' ' '*' ' ' ' ']\n",
      " ['v' ' ' ' ' ' ' ' ' ' ' '^' ' ' ' ']\n",
      " ['*' '>' '*' '>' '*' '>' '*' ' ' ' ']]\n",
      "    *<*<*\n",
      "    v   ^\n",
      "    * *>*\n",
      "    v ^  \n",
      "    * *  \n",
      "    v ^  \n",
      "    @ *  \n",
      "    v ^  \n",
      "    * *  \n",
      "    v ^  \n",
      "*<*<* *  \n",
      "v     ^  \n",
      "*>*>*>*  \n"
     ]
    }
   ],
   "source": [
    "import numpy as np\n",
    "# s = 'WSSSEENWNEESSENNNNWWWS'\n",
    "s = 'SSWWSEEENNNNNENWWSSS'\n",
    "new = []\n",
    "coorlist = []\n",
    "xcoor = 0\n",
    "ycoor = 0\n",
    "xmin = 0\n",
    "xmax = 0\n",
    "ymin = 0\n",
    "ymax = 0\n",
    "for i in s:\n",
    "    if i == 'S':\n",
    "        ycoor -= 1\n",
    "    elif i == 'N':\n",
    "        ycoor += 1\n",
    "    elif i == 'E':\n",
    "        xcoor += 1\n",
    "    elif i == 'W':\n",
    "        xcoor -= 1\n",
    "    coorlist.append([xcoor,ycoor])\n",
    "    if xcoor > xmax:\n",
    "        xmax = xcoor\n",
    "    elif xcoor < xmin:\n",
    "        xmin = xcoor\n",
    "    elif ycoor > ymax:\n",
    "        ymax = ycoor\n",
    "    elif ycoor < ymin:\n",
    "        ymin = ycoor\n",
    "for i in coorlist:\n",
    "    i[0] -= xmin\n",
    "    i[1] -= ymin\n",
    "xdif = xmax-xmin\n",
    "ydif = ymax-ymin\n",
    "x = []\n",
    "for i in range((xdif*2+1)*(ydif*2+1)):\n",
    "    x.append(' ')\n",
    "a = np.array(x)\n",
    "a = np.reshape(a,((ydif*2+1),(xdif*2+1)))\n",
    "tempx = -xmin*2\n",
    "tempy = -ymin*2\n",
    "for i in s:\n",
    "    if i == 'S':\n",
    "        tempy -= 2\n",
    "        a[tempy+1,tempx] = 'v'\n",
    "    elif i == 'N':\n",
    "        tempy += 2\n",
    "        a[tempy-1,tempx] = '^'\n",
    "    elif i == 'E':\n",
    "        tempx += 2\n",
    "        a[tempy,tempx-1] = '>'\n",
    "    elif i == 'W':\n",
    "        tempx -= 2\n",
    "        a[tempy,tempx+1] = '<'\n",
    "    a[tempy,tempx] = '*'\n",
    "a[-ymin*2,-xmin*2] = '@'\n",
    "a = a[::-1]\n",
    "print(a)\n",
    "for i in a:\n",
    "    for j in i:\n",
    "        print(j,end = \"\")\n",
    "    print()"
   ]
  },
  {
   "cell_type": "code",
   "execution_count": 14,
   "metadata": {},
   "outputs": [],
   "source": [
    "test = []\n",
    "test.append([1,2,3,4,5,6,7,8,9])"
   ]
  },
  {
   "cell_type": "code",
   "execution_count": 15,
   "metadata": {},
   "outputs": [
    {
     "name": "stdout",
     "output_type": "stream",
     "text": [
      "[[1, 2, 3, 4, 5, 6, 7, 8, 9]]\n"
     ]
    }
   ],
   "source": [
    "print(test)"
   ]
  },
  {
   "cell_type": "code",
   "execution_count": 43,
   "metadata": {},
   "outputs": [
    {
     "name": "stdout",
     "output_type": "stream",
     "text": [
      "[' ', ' ', ' ', ' ', ' ', ' ', ' ', ' ', ' ', ' ', ' ', ' ', ' ', ' ', ' ', ' ', ' ', ' ', ' ', ' ', ' ', ' ', ' ', ' ', ' ', ' ', ' ', ' ', ' ', ' ', ' ', ' ', ' ', ' ', ' ', ' ', ' ', ' ', ' ', ' ', ' ', ' ', ' ', ' ', ' ', ' ', ' ', ' ', ' ', ' ']\n",
      "(25, 2)\n",
      "[[' ' ' ']\n",
      " [' ' '3']\n",
      " [' ' ' ']\n",
      " [' ' ' ']\n",
      " [' ' ' ']\n",
      " [' ' ' ']\n",
      " [' ' ' ']\n",
      " [' ' ' ']\n",
      " [' ' ' ']\n",
      " [' ' ' ']\n",
      " [' ' ' ']\n",
      " [' ' ' ']\n",
      " [' ' ' ']\n",
      " [' ' ' ']\n",
      " [' ' ' ']\n",
      " [' ' ' ']\n",
      " [' ' ' ']\n",
      " [' ' ' ']\n",
      " [' ' ' ']\n",
      " [' ' ' ']\n",
      " [' ' ' ']\n",
      " [' ' ' ']\n",
      " [' ' ' ']\n",
      " [' ' ' ']\n",
      " [' ' ' ']]\n"
     ]
    }
   ],
   "source": [
    "import numpy as np\n",
    "x = []\n",
    "for i in range(50):\n",
    "    x.append(' ')\n",
    "print(x)\n",
    "a = np.array(x)\n",
    "a = np.reshape(a,(25,2))\n",
    "print(a.shape)\n",
    "a[1,1] = 3\n",
    "print(a)"
   ]
  },
  {
   "cell_type": "code",
   "execution_count": null,
   "metadata": {},
   "outputs": [],
   "source": []
  }
 ],
 "metadata": {
  "kernelspec": {
   "display_name": "Python 3",
   "language": "python",
   "name": "python3"
  },
  "language_info": {
   "codemirror_mode": {
    "name": "ipython",
    "version": 3
   },
   "file_extension": ".py",
   "mimetype": "text/x-python",
   "name": "python",
   "nbconvert_exporter": "python",
   "pygments_lexer": "ipython3",
   "version": "3.7.4"
  }
 },
 "nbformat": 4,
 "nbformat_minor": 2
}
