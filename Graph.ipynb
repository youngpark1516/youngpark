{
 "cells": [
  {
   "cell_type": "code",
   "execution_count": 1,
   "metadata": {},
   "outputs": [],
   "source": [
    "import matplotlib.pyplot as plt\n",
    "%matplotlib inline#그려라"
   ]
  },
  {
   "cell_type": "code",
   "execution_count": 11,
   "metadata": {},
   "outputs": [
    {
     "data": {
      "image/png": "[encoded data removed]",
      "text/plain": [
       "<Figure size 432x288 with 2 Axes>"
      ]
     },
     "metadata": {
      "needs_background": "light"
     },
     "output_type": "display_data"
    }
   ],
   "source": [
    "figure = plt.figure()\n",
    "axes = figure.add_subplot(1,2,1)\n",
    "axes2 = figure.add_subplot(1,2,2)\n",
    "\n",
    "x = [0,2]\n",
    "y = [0,4]\n",
    "axes.plot(x,y)\n",
    "axes2.plot([1,2],[1,2])\n",
    "plt.show()"
   ]
  },
  {
   "cell_type": "code",
   "execution_count": 8,
   "metadata": {},
   "outputs": [],
   "source": [
    "import numpy as np\n",
    "x = np.array"
   ]
  },
  {
   "cell_type": "code",
   "execution_count": 12,
   "metadata": {},
   "outputs": [],
   "source": [
    "import pymysql"
   ]
  },
  {
   "cell_type": "code",
   "execution_count": 44,
   "metadata": {},
   "outputs": [
    {
     "name": "stdout",
     "output_type": "stream",
     "text": [
      "1699384\n",
      "2246845\n"
     ]
    }
   ],
   "source": [
    "db = pymysql.connect(host='127.0.0.1', #내 주소\n",
    "                     port=3306, user='young', \n",
    "                     passwd = '1234', \n",
    "                     db='corona', charset='utf8')\n",
    "cursor = db.cursor()\n",
    "ans1 = 0\n",
    "ans2 = 0\n",
    "for i in range(1,99):  \n",
    "    sql = \"SELECT total_case FROM corona.corona_case WHERE id = \"+str(i)\n",
    "    cursor.execute(sql)\n",
    "    db.commit()\n",
    "    result = cursor.fetchone()\n",
    "    ans1 = ans1 + int(result[0])\n",
    "for i in range(100,199):  \n",
    "    sql = \"SELECT total_case FROM corona.corona_case WHERE id = \"+str(i)\n",
    "    cursor.execute(sql)\n",
    "    db.commit()\n",
    "    result = cursor.fetchone()\n",
    "    ans2 = ans2 + int(result[0])\n",
    "print(ans1)\n",
    "print(ans2)"
   ]
  },
  {
   "cell_type": "code",
   "execution_count": 47,
   "metadata": {},
   "outputs": [
    {
     "data": {
      "image/png": "[encoded data removed]",
      "text/plain": [
       "<Figure size 432x288 with 1 Axes>"
      ]
     },
     "metadata": {
      "needs_background": "light"
     },
     "output_type": "display_data"
    }
   ],
   "source": [
    "import matplotlib.pyplot as plt\n",
    "%matplotlib inline\n",
    "figure = plt.figure()\n",
    "axes = figure.add_subplot()\n",
    "x = [\"12\",\"19\"]\n",
    "y = [ans1,ans2]\n",
    "axes.bar(x,y)\n",
    "plt.show()"
   ]
  },
  {
   "cell_type": "code",
   "execution_count": 48,
   "metadata": {},
   "outputs": [],
   "source": [
    "sql = 'SELECT country,total_case from corona.corona_case where date > \"2020-04-18\" order by total_case desc limit 10;'"
   ]
  },
  {
   "cell_type": "code",
   "execution_count": 49,
   "metadata": {},
   "outputs": [],
   "source": [
    "db = pymysql.connect(host='127.0.0.1', #내 주소\n",
    "                     port=3306, user='young', \n",
    "                     passwd = '1234', \n",
    "                     db='corona', charset='utf8')\n",
    "cursor = db.cursor()\n",
    "cursor.execute(sql)\n",
    "db.commit()\n",
    "result = cursor.fetchall()"
   ]
  },
  {
   "cell_type": "code",
   "execution_count": 50,
   "metadata": {},
   "outputs": [
    {
     "name": "stdout",
     "output_type": "stream",
     "text": [
      "(('USA', 738923), ('Spain', 194416), ('Italy', 175925), ('France', 151793), ('Germany', 143724), ('UK', 114217), ('Turkey', 82329), ('Iran', 80868), ('Russia', 42853), ('Belgium', 37183))\n"
     ]
    }
   ],
   "source": [
    "print(result)"
   ]
  },
  {
   "cell_type": "code",
   "execution_count": 51,
   "metadata": {},
   "outputs": [],
   "source": [
    "x = []\n",
    "y = []"
   ]
  },
  {
   "cell_type": "code",
   "execution_count": 52,
   "metadata": {},
   "outputs": [],
   "source": [
    "for i,j in result:\n",
    "    x.append(i)\n",
    "    y.append(j)"
   ]
  },
  {
   "cell_type": "code",
   "execution_count": 53,
   "metadata": {},
   "outputs": [
    {
     "data": {
      "image/png": "[encoded data removed]",
      "text/plain": [
       "<Figure size 432x288 with 1 Axes>"
      ]
     },
     "metadata": {
      "needs_background": "light"
     },
     "output_type": "display_data"
    }
   ],
   "source": [
    "import matplotlib.pyplot as plt\n",
    "%matplotlib inline\n",
    "figure = plt.figure()\n",
    "axes = figure.add_subplot()\n",
    "axes.bar(x,y)\n",
    "plt.show()"
   ]
  },
  {
   "cell_type": "code",
   "execution_count": null,
   "metadata": {},
   "outputs": [],
   "source": []
  }
 ],
 "metadata": {
  "kernelspec": {
   "display_name": "Python 3",
   "language": "python",
   "name": "python3"
  },
  "language_info": {
   "codemirror_mode": {
    "name": "ipython",
    "version": 3
   },
   "file_extension": ".py",
   "mimetype": "text/x-python",
   "name": "python",
   "nbconvert_exporter": "python",
   "pygments_lexer": "ipython3",
   "version": "3.7.4"
  }
 },
 "nbformat": 4,
 "nbformat_minor": 2
}
