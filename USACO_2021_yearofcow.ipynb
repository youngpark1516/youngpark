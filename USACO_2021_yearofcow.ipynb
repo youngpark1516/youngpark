{
 "cells": [
  {
   "cell_type": "code",
   "execution_count": 5,
   "metadata": {
    "scrolled": true
   },
   "outputs": [
    {
     "name": "stdout",
     "output_type": "stream",
     "text": [
      "4\n",
      "Mildred born in previous Dragon year from Bessie\n",
      "Gretta born in previous Monkey year from Mildred\n",
      "Elsie born in next Ox year from Gretta\n",
      "Paulina born in next Dog year from Bessie\n",
      "Bessie 0\n",
      "Mildred -9\n",
      "Gretta -17\n",
      "Elsie -12\n",
      "Paulina 9\n"
     ]
    }
   ],
   "source": [
    "# Ox, Tiger, Rabbit, Dragon, Snake, Horse, Goat, Monkey, Rooster, Dog, Pig, Rat\n",
    "n = int(input())\n",
    "namelist = ['Bessie']\n",
    "yearlist = ['Ox']\n",
    "comparedto = [0]\n",
    "def yearToNum(x):\n",
    "    l = ['Ox', 'Tiger', 'Rabbit', 'Dragon', 'Snake', 'Horse', 'Goat', 'Monkey', 'Rooster', 'Dog', 'Pig', 'Rat']\n",
    "    out = l.index(x)\n",
    "    return out\n",
    "for i in range(n):\n",
    "    sentence = input()\n",
    "    x = sentence.split(' ')\n",
    "    name, place, year, name2 = x[0], x[3], x[4], x[7]\n",
    "    namelist.append(name)\n",
    "    yearlist.append(year)\n",
    "    dif = 0\n",
    "    prev = namelist.index(name2)\n",
    "    if place == 'previous':\n",
    "        dif = -((12 + yearToNum(yearlist[prev])-yearToNum(year))%12)\n",
    "    elif place == 'next':\n",
    "        dif = (12 + yearToNum(year)-yearToNum(yearlist[prev]))%12\n",
    "    comparedto.append(comparedto[prev]+dif)\n",
    "for i in range(n+1):\n",
    "    print(namelist[i],comparedto[i])"
   ]
  }
 ],
 "metadata": {
  "kernelspec": {
   "display_name": "Python 3",
   "language": "python",
   "name": "python3"
  },
  "language_info": {
   "codemirror_mode": {
    "name": "ipython",
    "version": 3
   },
   "file_extension": ".py",
   "mimetype": "text/x-python",
   "name": "python",
   "nbconvert_exporter": "python",
   "pygments_lexer": "ipython3",
   "version": "3.7.4"
  }
 },
 "nbformat": 4,
 "nbformat_minor": 2
}
