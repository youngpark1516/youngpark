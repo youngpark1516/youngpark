{
 "cells": [
  {
   "cell_type": "code",
   "execution_count": 6,
   "metadata": {},
   "outputs": [],
   "source": [
    "import numpy as np\n",
    "from scipy import stats\n",
    "import random\n",
    "import matplotlib.pyplot as plt\n",
    "\n",
    "def get_reward(prob, n = 10):\n",
    "    reward = 0\n",
    "    for i in range(n):\n",
    "        if random.random() < prob:\n",
    "            reward += 1\n",
    "    return reward\n",
    "def update_record(record,action,r):\n",
    "    new_r = (record[action,0]*record[action,1]+r)/(record[action,0]+1)\n",
    "    record[action,0] += 1\n",
    "    record[action,1] = new_r\n",
    "    return record\n",
    "def get_best_arm(record):\n",
    "    arm_index = np.argmax(record[:,1],axis=0)\n",
    "    return arm_index"
   ]
  },
  {
   "cell_type": "code",
   "execution_count": 103,
   "metadata": {},
   "outputs": [
    {
     "data": {
      "text/plain": [
       "array([0.95310213, 0.49337968, 0.34842782, 0.59218358, 0.74964166,\n",
       "       0.28388271, 0.74503052, 0.07048094, 0.8734586 , 0.62563318])"
      ]
     },
     "execution_count": 103,
     "metadata": {},
     "output_type": "execute_result"
    }
   ],
   "source": [
    "n = 10\n",
    "probs = np.random.rand(n)\n",
    "probs"
   ]
  },
  {
   "cell_type": "code",
   "execution_count": 104,
   "metadata": {},
   "outputs": [
    {
     "data": {
      "text/plain": [
       "<matplotlib.collections.PathCollection at 0x204957fff08>"
      ]
     },
     "execution_count": 104,
     "metadata": {},
     "output_type": "execute_result"
    },
    {
     "data": {
      "image/png": "[encoded data removed]",
      "text/plain": [
       "<Figure size 648x360 with 1 Axes>"
      ]
     },
     "metadata": {
      "needs_background": "light"
     },
     "output_type": "display_data"
    }
   ],
   "source": [
    "last = []\n",
    "record = np.zeros((n,2))\n",
    "fig,ax = plt.subplots(1,1)\n",
    "ax.set_xlabel(\"Plays\")\n",
    "ax.set_ylabel(\"Avg Reward\")\n",
    "fig.set_size_inches(9,5)\n",
    "rewards = [0]\n",
    "for i in range(1000):\n",
    "    if random.random() > 0.2:##최적을 찾아도 엡실론 때문에 모험을 한다\n",
    "        choice = get_best_arm(record)\n",
    "    else:\n",
    "        choice = np.random.randint(10)\n",
    "    r = get_reward(probs[choice])\n",
    "    last.append(r)\n",
    "    record = update_record(record,choice,r)\n",
    "    mean_reward = ((i+1)*rewards[-1]+r)/(i+2)\n",
    "    rewards.append(mean_reward)\n",
    "ax.scatter(np.arange(len(rewards)),rewards)"
   ]
  },
  {
   "cell_type": "code",
   "execution_count": 114,
   "metadata": {
    "scrolled": true
   },
   "outputs": [
    {
     "data": {
      "text/plain": [
       "<matplotlib.collections.PathCollection at 0x204959f0048>"
      ]
     },
     "execution_count": 114,
     "metadata": {},
     "output_type": "execute_result"
    },
    {
     "data": {
      "image/png": "[encoded data removed]",
      "text/plain": [
       "<Figure size 648x360 with 1 Axes>"
      ]
     },
     "metadata": {
      "needs_background": "light"
     },
     "output_type": "display_data"
    }
   ],
   "source": [
    "last = []\n",
    "record = np.zeros((n,2))\n",
    "fig,ax = plt.subplots(1,1)\n",
    "ax.set_xlabel(\"Plays\")\n",
    "ax.set_ylabel(\"Avg Reward\")\n",
    "fig.set_size_inches(9,5)\n",
    "rewards = [0]\n",
    "e = 0.2\n",
    "\n",
    "for i in range(1000):\n",
    "    if random.random() > e:##최적을 찾아도 엡실론 때문에 모험을 한다\n",
    "        choice = get_best_arm(record)\n",
    "    else:\n",
    "        choice = np.random.randint(10)\n",
    "    r = get_reward(probs[choice])\n",
    "    last.append(r)\n",
    "    record = update_record(record,choice,r)\n",
    "    mean_reward = ((i+1)*rewards[-1]+r)/(i+2)\n",
    "    rewards.append(mean_reward)\n",
    "    isover10 = True\n",
    "    for i in record[:,0]:\n",
    "        if i < 10:\n",
    "            isover10 = False\n",
    "            break\n",
    "    if isover10:\n",
    "        e = 0\n",
    "ax.scatter(np.arange(len(rewards)),rewards)"
   ]
  },
  {
   "cell_type": "code",
   "execution_count": 108,
   "metadata": {},
   "outputs": [
    {
     "data": {
      "text/plain": [
       "<matplotlib.collections.PathCollection at 0x204958c8788>"
      ]
     },
     "execution_count": 108,
     "metadata": {},
     "output_type": "execute_result"
    },
    {
     "data": {
      "image/png": "[encoded data removed]",
      "text/plain": [
       "<Figure size 648x360 with 1 Axes>"
      ]
     },
     "metadata": {
      "needs_background": "light"
     },
     "output_type": "display_data"
    }
   ],
   "source": [
    "last = []\n",
    "record = np.zeros((n,2))\n",
    "fig,ax = plt.subplots(1,1)\n",
    "ax.set_xlabel(\"Plays\")\n",
    "ax.set_ylabel(\"Avg Reward\")\n",
    "fig.set_size_inches(9,5)\n",
    "rewards = [0]\n",
    "e = 0.2\n",
    "\n",
    "for i in range(1000):\n",
    "    if random.random() > e:##최적을 찾아도 엡실론 때문에 모험을 한다\n",
    "        choice = get_best_arm(record)\n",
    "    else:\n",
    "        choice = np.random.randint(10)\n",
    "    r = get_reward(probs[choice])\n",
    "    last.append(r)\n",
    "    record = update_record(record,choice,r)\n",
    "    mean_reward = ((i+1)*rewards[-1]+r)/(i+2)\n",
    "    rewards.append(mean_reward)\n",
    "    e -= 0.0005\n",
    "ax.scatter(np.arange(len(rewards)),rewards)"
   ]
  },
  {
   "cell_type": "code",
   "execution_count": 44,
   "metadata": {
    "scrolled": true
   },
   "outputs": [
    {
     "name": "stdout",
     "output_type": "stream",
     "text": [
      "[[ 20.           5.9       ]\n",
      " [ 10.           3.6       ]\n",
      " [ 12.           2.25      ]\n",
      " [ 18.           8.22222222]\n",
      " [ 15.           7.13333333]\n",
      " [ 11.           7.81818182]\n",
      " [866.           8.59699769]\n",
      " [ 18.           6.55555556]\n",
      " [ 11.           8.09090909]\n",
      " [ 19.           7.89473684]]\n",
      "0\n"
     ]
    }
   ],
   "source": [
    "print(record)\n",
    "print(e)"
   ]
  },
  {
   "cell_type": "code",
   "execution_count": 119,
   "metadata": {},
   "outputs": [
    {
     "name": "stdout",
     "output_type": "stream",
     "text": [
      "9580.999999999996\n"
     ]
    }
   ],
   "source": [
    "total = 0\n",
    "for i in range(10):\n",
    "    total += record[i,0]*record[i,1]\n",
    "print(total)"
   ]
  },
  {
   "cell_type": "code",
   "execution_count": null,
   "metadata": {},
   "outputs": [],
   "source": [
    "8852.0\n",
    "9012.999999999996"
   ]
  },
  {
   "cell_type": "code",
   "execution_count": null,
   "metadata": {},
   "outputs": [],
   "source": [
    "9069.999999999998\n",
    "9131.99999999999\n",
    "9757.000000000004"
   ]
  },
  {
   "cell_type": "code",
   "execution_count": null,
   "metadata": {},
   "outputs": [],
   "source": [
    "8714.000000000004 #엡실론 변경 x\n",
    "8844.999999999996 #10번 베이스 엡실론 변경\n",
    "9380.999999999993 #한번에 0.0005씩 줄이기\n",
    "9580.999999999996 #한번씩 해보고 젤 좋은거 ㄱ"
   ]
  },
  {
   "cell_type": "code",
   "execution_count": 118,
   "metadata": {},
   "outputs": [
    {
     "data": {
      "text/plain": [
       "<matplotlib.collections.PathCollection at 0x20495ab9108>"
      ]
     },
     "execution_count": 118,
     "metadata": {},
     "output_type": "execute_result"
    },
    {
     "data": {
      "image/png": "[encoded data removed]",
      "text/plain": [
       "<Figure size 648x360 with 1 Axes>"
      ]
     },
     "metadata": {
      "needs_background": "light"
     },
     "output_type": "display_data"
    }
   ],
   "source": [
    "last = []\n",
    "record = np.zeros((n,2))\n",
    "fig,ax = plt.subplots(1,1)\n",
    "ax.set_xlabel(\"Plays\")\n",
    "ax.set_ylabel(\"Avg Reward\")\n",
    "fig.set_size_inches(9,5)\n",
    "rewards = [0]\n",
    "e = 0.2\n",
    "\n",
    "for i in range(10):\n",
    "    r = get_reward(probs[i])\n",
    "    last.append(r)\n",
    "    record = update_record(record,i,r)\n",
    "    mean_reward = ((i+1)*rewards[-1]+r)/(i+2)\n",
    "    rewards.append(mean_reward)\n",
    "for i in range(1000):\n",
    "    choice = get_best_arm(record)\n",
    "    r = get_reward(probs[choice])\n",
    "    last.append(r)\n",
    "    record = update_record(record,choice,r)\n",
    "    mean_reward = ((i+1)*rewards[-1]+r)/(i+2)\n",
    "    rewards.append(mean_reward)\n",
    "ax.scatter(np.arange(len(rewards)),rewards)"
   ]
  },
  {
   "cell_type": "code",
   "execution_count": null,
   "metadata": {},
   "outputs": [],
   "source": []
  }
 ],
 "metadata": {
  "kernelspec": {
   "display_name": "Python 3",
   "language": "python",
   "name": "python3"
  },
  "language_info": {
   "codemirror_mode": {
    "name": "ipython",
    "version": 3
   },
   "file_extension": ".py",
   "mimetype": "text/x-python",
   "name": "python",
   "nbconvert_exporter": "python",
   "pygments_lexer": "ipython3",
   "version": "3.7.4"
  }
 },
 "nbformat": 4,
 "nbformat_minor": 2
}
