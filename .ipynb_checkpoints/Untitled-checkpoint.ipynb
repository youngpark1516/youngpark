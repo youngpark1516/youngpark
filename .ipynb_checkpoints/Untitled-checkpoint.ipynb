{
 "cells": [
  {
   "cell_type": "code",
   "execution_count": 31,
   "metadata": {},
   "outputs": [
    {
     "name": "stdout",
     "output_type": "stream",
     "text": [
      "[1, 1, 2, 3, 4, 5, 6, 7, 8, 9]\n"
     ]
    }
   ],
   "source": [
    "t = (1,9,8,7,1,6,5,4,3,2)\n",
    "t = list(t)\n",
    "for r in range(len(t)):\n",
    "    low = r\n",
    "    for i in range(r+1, len(t)):\n",
    "        if t[low] > t[i]:\n",
    "            low = i\n",
    "    if low != r:\n",
    "        t[low] , t[r] = t[r], t[low]\n",
    "print(t)"
   ]
  },
  {
   "cell_type": "code",
   "execution_count": 37,
   "metadata": {},
   "outputs": [
    {
     "name": "stdout",
     "output_type": "stream",
     "text": [
      "[1, 2, 3, 4, 5, 6, 7, 8, 9, 10]\n"
     ]
    }
   ],
   "source": [
    "li = [10,9,8,7,6,5,4,3,2,1]\n",
    "length = len(li) - 1\n",
    "\n",
    "for i in range(length):\n",
    "    for j in range(length-0):\n",
    "        if li[j] > li[j+1]:\n",
    "            li[j], li[j+1] = li[j+1], li[j]\n",
    "print(li)"
   ]
  },
  {
   "cell_type": "code",
   "execution_count": null,
   "metadata": {},
   "outputs": [],
   "source": []
  }
 ],
 "metadata": {
  "kernelspec": {
   "display_name": "Python 3",
   "language": "python",
   "name": "python3"
  }
 },
 "nbformat": 4,
 "nbformat_minor": 2
}
