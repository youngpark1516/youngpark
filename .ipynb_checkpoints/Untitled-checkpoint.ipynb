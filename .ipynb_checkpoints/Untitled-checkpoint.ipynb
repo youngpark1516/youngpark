{
 "cells": [
  {
   "cell_type": "code",
   "execution_count": 1,
   "metadata": {},
   "outputs": [
    {
     "name": "stdout",
     "output_type": "stream",
     "text": [
      "[1, 1, 2, 3, 4, 5, 6, 7, 8, 9]\n"
     ]
    }
   ],
   "source": [
    "t = (1,9,8,7,1,6,5,4,3,2)\n",
    "t = list(t)\n",
    "for r in range(len(t)): #t의 길이만큼 반복\n",
    "    low = r\n",
    "    for i in range(r+1, len(t)): #이미 순서대로 한 마지막 숫자 다음부터 끝까지 반복\n",
    "        if t[low] > t[i]: #뭐가 더 작은지 체크\n",
    "            low = i #만약 i번째가 더 작으면 i를 가장 작은 숫자의 index로 바꾸기\n",
    "    if low != r: #r 과 i가 같을때까지\n",
    "        t[low] , t[r] = t[r], t[low] #작은 숫자와 그 자리에 있는 숫자와 교체\n",
    "print(t)"
   ]
  },
  {
   "cell_type": "code",
   "execution_count": 37,
   "metadata": {},
   "outputs": [
    {
     "name": "stdout",
     "output_type": "stream",
     "text": [
      "[1, 2, 3, 4, 5, 6, 7, 8, 9, 10]\n"
     ]
    }
   ],
   "source": [
    "li = [10,9,8,7,6,5,4,3,2,1]\n",
    "length = len(li) - 1\n",
    "\n",
    "for i in range(length): #li의 길이보다 1번 적게 반복\n",
    "    for j in range(length-0): #li의 길이보다 1번 적게 반복\n",
    "        if li[j] > li[j+1]: #만약 j번째 숫자가 다음 숫자보다 크면\n",
    "            li[j], li[j+1] = li[j+1], li[j] #교체\n",
    "print(li)"
   ]
  },
  {
   "cell_type": "code",
   "execution_count": 5,
   "metadata": {},
   "outputs": [
    {
     "name": "stdout",
     "output_type": "stream",
     "text": [
      "find value: 67\n",
      "6 번의 시도만에 찾았습니다\n"
     ]
    }
   ],
   "source": [
    "l = [19,12,43,56,23,67,47,96,21]\n",
    "f = input('find value: ')\n",
    "for i in range(len(l)):\n",
    "    if l[i] == int(f):\n",
    "        print(i+1, '번의 시도만에 찾았습니다')\n",
    "        break"
   ]
  },
  {
   "cell_type": "code",
   "execution_count": 14,
   "metadata": {
    "scrolled": true
   },
   "outputs": [
    {
     "name": "stdout",
     "output_type": "stream",
     "text": [
      "find value: 23\n",
      "[11, 12, 19, 21, 23, 24, 34, 43, 47, 56, 57, 67, 96]\n",
      "6\n",
      "3 1\n",
      "4 2\n",
      "5 번째 숫자\n"
     ]
    }
   ],
   "source": [
    "f = input('find value: ')\n",
    "\n",
    "t = [19,12,43,56,23,67,47,96,21,11,24,57,34]\n",
    "for r in range(len(t)): \n",
    "    low = r\n",
    "    for i in range(r+1, len(t)):\n",
    "        if t[low] > t[i]:\n",
    "            low = i\n",
    "    if low != r:\n",
    "        t[low] , t[r] = t[r], t[low]\n",
    "print(t)\n",
    "underx = t[0]\n",
    "overx = t[-1]\n",
    "\n",
    "x = int(f)\n",
    "mid = int(len(t)/2)\n",
    "half = int(len(t)/2)\n",
    "print(mid)\n",
    "for i in range(len(t)):\n",
    "    if mid == 1:\n",
    "        break\n",
    "    if x < t[mid]:\n",
    "        mid = mid - int((half+1)/(2*(i+1)))\n",
    "        print(mid, 1)\n",
    "    elif x > t[mid]:\n",
    "        mid = mid + int((half+1)/(2*(i+1)))\n",
    "        print(mid, 2)\n",
    "    else:\n",
    "        print(mid+1, '번째 숫자')\n",
    "        break"
   ]
  },
  {
   "cell_type": "markdown",
   "metadata": {},
   "source": [
    "### Binary search"
   ]
  },
  {
   "cell_type": "code",
   "execution_count": 6,
   "metadata": {},
   "outputs": [
    {
     "name": "stdout",
     "output_type": "stream",
     "text": [
      "어떤 수 ?0\n",
      "[0, 1, 2, 2, 3, 3, 5, 5, 6, 6, 7, 7, 7, 8, 9, 12, 23, 45, 54, 62, 88, 90]\n",
      "5 번 만에 성공\n"
     ]
    }
   ],
   "source": [
    "l = [5,3,6,2,1,3,5,7,9,0,90,8,7,6,54,2,12,45,7,23,62,88]\n",
    "\n",
    "s = int(input('어떤 수 ?'))\n",
    "l.sort()\n",
    "\n",
    "temp = l\n",
    "count = 0\n",
    "print(l)\n",
    "while True:\n",
    "    count+=1 #반복문 돌 때 마다 count를 1씩 올림\n",
    "    if temp[int(len(temp)/2)] > s: #만약 리스트의 1/2 지점보다 앞에 있으면\n",
    "        temp = temp[:int(len(temp)/2)] #리스트를 그 부분으로 줄임\n",
    "        \n",
    "    elif temp[int(len(temp)/2)] < s: #만약 리스트의 1/2 지점보다 뒤에 있으면\n",
    "        temp = temp[int(len(temp)/2):] #리스트를 그  부분으로 줄임\n",
    "    \n",
    "    else: #만약 둘 다 아니면\n",
    "        print(count,'번 만에 성공') #성☆공\n",
    "        break #아디오스"
   ]
  },
  {
   "cell_type": "markdown",
   "metadata": {},
   "source": [
    "### 삼진 탐색"
   ]
  },
  {
   "cell_type": "code",
   "execution_count": 1,
   "metadata": {},
   "outputs": [
    {
     "name": "stdout",
     "output_type": "stream",
     "text": [
      "어떤 수 ?54\n",
      "[0, 1, 2, 2, 3, 3, 5, 5, 6, 6, 7, 7, 7, 8, 9, 12, 23, 45, 54, 62, 88, 90]\n",
      "[9, 12, 23, 45, 54, 62, 88, 90]\n",
      "[23, 45, 54]\n",
      "3 번 만에 성공\n"
     ]
    }
   ],
   "source": [
    "l = [5,3,6,2,1,3,5,7,9,0,90,8,7,6,54,2,12,45,7,23,62,88]\n",
    "\n",
    "s = int(input('어떤 수 ?')) #찾고 싶은 숫자 받기\n",
    "l.sort()\n",
    "\n",
    "temp = l\n",
    "count = 0 \n",
    "print(l)\n",
    "while True:\n",
    "    count+=1 #반복문 돌 때 마다 count를 1씩 올림\n",
    "    if temp[int(len(temp)/3)] > s: #만약 리스트의 1/3 지점보다 앞에 있으면\n",
    "        temp = temp[:int(len(temp)/3)] #리스트를 그 부분으로 줄임\n",
    "        print(temp) #어디로 줄였는지 체크\n",
    "    elif temp[int((len(temp)/3)*2)] < s: #만약 리스트의 2/3 지점보다 뒤에 있으면\n",
    "        temp = temp[int((len(temp)/3)*2):] #리스트를 그  부분으로 줄임\n",
    "        print(temp) #어디로 줄였는지 체크\n",
    "    elif temp[int((len(temp)/3)*2)] > s and temp[int(len(temp)/3)] < s: #만약 리스트의 1/3지점과 2/3 지점 사이에 있으면\n",
    "        temp = temp[int((len(temp)/3)):int((len(temp)/3)*2)] #리스트를 그  부분으로 줄임\n",
    "        print(temp) #어디로 줄였는지 체크\n",
    "    else: #만약 셋 다 아니면\n",
    "        if s > temp[int(len(temp)/3)]: #딱 2/3 지점에 있었으면\n",
    "            print(count,'번 만에 성공') #성☆공\n",
    "            break #이제 끝\n",
    "        else: #아니여도\n",
    "            print(count,'번 만에 성공') #성☆공\n",
    "            break #이제 끝"
   ]
  },
  {
   "cell_type": "code",
   "execution_count": null,
   "metadata": {},
   "outputs": [],
   "source": []
  }
 ],
 "metadata": {
  "kernelspec": {
   "display_name": "Python 3",
   "language": "python",
   "name": "python3"
  },
  "language_info": {
   "codemirror_mode": {
    "name": "ipython",
    "version": 3
   },
   "file_extension": ".py",
   "mimetype": "text/x-python",
   "name": "python",
   "nbconvert_exporter": "python",
   "pygments_lexer": "ipython3",
   "version": "3.7.4"
  }
 },
 "nbformat": 4,
 "nbformat_minor": 2
}
