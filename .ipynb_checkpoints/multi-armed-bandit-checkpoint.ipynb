{
 "cells": [
  {
   "cell_type": "code",
   "execution_count": 1,
   "metadata": {},
   "outputs": [],
   "source": [
    "def exp_reward(action,history):\n",
    "    rewards_for_action = history[action]\n",
    "    return sum(rewards_for_action_action)/len(rewards_for_action)"
   ]
  },
  {
   "cell_type": "code",
   "execution_count": 2,
   "metadata": {},
   "outputs": [],
   "source": [
    "def get_best_action(actions):\n",
    "    best_action = 0\n",
    "    max_action_value = 0\n",
    "    for i in range(len(actions)):\n",
    "        cur_action_value = get_action_value(actions[i])\n",
    "        if cur_action_value > max_action_value:\n",
    "            best_action = i\n",
    "            max_action_value = cur_action_value\n",
    "    return best_action\n",
    "def get_action_value(action):\n",
    "    return exp_reward(action)"
   ]
  },
  {
   "cell_type": "code",
   "execution_count": 58,
   "metadata": {},
   "outputs": [],
   "source": [
    "import numpy as np\n",
    "from scipy import stats\n",
    "import random\n",
    "import matplotlib.pyplot as plt\n",
    "\n",
    "n = 10\n",
    "probs = np.random.rand(n)\n",
    "eps = 0.1"
   ]
  },
  {
   "cell_type": "code",
   "execution_count": 4,
   "metadata": {},
   "outputs": [],
   "source": [
    "def get_reward(prob, n = 10):\n",
    "    reward = 0\n",
    "    for i in range(n):\n",
    "        if random.random() < prob:\n",
    "            reward += 1\n",
    "    return reward"
   ]
  },
  {
   "cell_type": "code",
   "execution_count": 28,
   "metadata": {},
   "outputs": [
    {
     "name": "stdout",
     "output_type": "stream",
     "text": [
      "3.9758\n"
     ]
    }
   ],
   "source": [
    "reward_test = [get_reward(0.4) for _ in range(10000)]\n",
    "print(np.mean(reward_test))"
   ]
  },
  {
   "cell_type": "code",
   "execution_count": 29,
   "metadata": {},
   "outputs": [
    {
     "data": {
      "text/plain": [
       "(array([  67.,  412., 1216., 2165., 2565., 1971., 1065.,  417.,  122.]),\n",
       " array([0., 1., 2., 3., 4., 5., 6., 7., 8., 9.]),\n",
       " <a list of 9 Patch objects>)"
      ]
     },
     "execution_count": 29,
     "metadata": {},
     "output_type": "execute_result"
    },
    {
     "data": {
      "image/png": "[encoded data removed]",
      "text/plain": [
       "<Figure size 648x360 with 1 Axes>"
      ]
     },
     "metadata": {
      "needs_background": "light"
     },
     "output_type": "display_data"
    }
   ],
   "source": [
    "plt.figure(figsize=(9,5))\n",
    "plt.xlabel(\"Reward\",fontsize=22)\n",
    "plt.ylabel(\"# Observations\",fontsize=22)\n",
    "plt.hist(reward_test,bins=9)"
   ]
  },
  {
   "cell_type": "code",
   "execution_count": 56,
   "metadata": {},
   "outputs": [
    {
     "data": {
      "text/plain": [
       "array([[0., 0.],\n",
       "       [0., 0.],\n",
       "       [0., 0.],\n",
       "       [0., 0.],\n",
       "       [0., 0.],\n",
       "       [0., 0.],\n",
       "       [0., 0.],\n",
       "       [0., 0.],\n",
       "       [0., 0.],\n",
       "       [0., 0.]])"
      ]
     },
     "execution_count": 56,
     "metadata": {},
     "output_type": "execute_result"
    }
   ],
   "source": [
    "record = np.zeros((n,2))\n",
    "record"
   ]
  },
  {
   "cell_type": "code",
   "execution_count": 38,
   "metadata": {},
   "outputs": [
    {
     "data": {
      "text/plain": [
       "(10,)"
      ]
     },
     "execution_count": 38,
     "metadata": {},
     "output_type": "execute_result"
    }
   ],
   "source": [
    "record[:,1].shape"
   ]
  },
  {
   "cell_type": "code",
   "execution_count": 39,
   "metadata": {},
   "outputs": [],
   "source": [
    "x = [[0,1],[2,3],[4,5]]"
   ]
  },
  {
   "cell_type": "code",
   "execution_count": 41,
   "metadata": {},
   "outputs": [],
   "source": [
    "x = np.array(x)"
   ]
  },
  {
   "cell_type": "code",
   "execution_count": 42,
   "metadata": {},
   "outputs": [
    {
     "name": "stdout",
     "output_type": "stream",
     "text": [
      "[1 3 5]\n"
     ]
    }
   ],
   "source": [
    "print(x[:,1])"
   ]
  },
  {
   "cell_type": "code",
   "execution_count": 43,
   "metadata": {},
   "outputs": [
    {
     "name": "stdout",
     "output_type": "stream",
     "text": [
      "[0 2 4]\n"
     ]
    }
   ],
   "source": [
    "print(x[:,0])"
   ]
  },
  {
   "cell_type": "code",
   "execution_count": 44,
   "metadata": {},
   "outputs": [],
   "source": [
    "def update_record(record,action,r):\n",
    "    new_r = (record[action,0]*record[action,1]+r)/(record[action,0]+1)\n",
    "    record[action,0] += 1\n",
    "    record[action,1] = new_r\n",
    "    return record"
   ]
  },
  {
   "cell_type": "code",
   "execution_count": 45,
   "metadata": {},
   "outputs": [],
   "source": [
    "def get_best_arm(record):\n",
    "    arm_index = np.argmax(record[:,1],axis=0)\n",
    "    return arm_index"
   ]
  },
  {
   "cell_type": "code",
   "execution_count": 78,
   "metadata": {},
   "outputs": [
    {
     "data": {
      "text/plain": [
       "<matplotlib.collections.PathCollection at 0x245333e7308>"
      ]
     },
     "execution_count": 78,
     "metadata": {},
     "output_type": "execute_result"
    },
    {
     "data": {
      "image/png": "[encoded data removed]",
      "text/plain": [
       "<Figure size 648x360 with 1 Axes>"
      ]
     },
     "metadata": {
      "needs_background": "light"
     },
     "output_type": "display_data"
    }
   ],
   "source": [
    "last = []\n",
    "record = np.zeros((n,2))\n",
    "fig,ax = plt.subplots(1,1)\n",
    "ax.set_xlabel(\"Plays\")\n",
    "ax.set_ylabel(\"Avg Reward\")\n",
    "fig.set_size_inches(9,5)\n",
    "rewards = [0]\n",
    "for i in range(500):\n",
    "    if random.random() > 0.12:\n",
    "        choice = get_best_arm(record)\n",
    "    else:\n",
    "        choice = np.random.randint(10)\n",
    "    r = get_reward(probs[choice])\n",
    "    last.append(r)\n",
    "    record = update_record(record,choice,r)\n",
    "    mean_reward = ((i+1)*rewards[-1]+r)/(i+2)\n",
    "    rewards.append(mean_reward)\n",
    "ax.scatter(np.arange(len(rewards)),rewards)"
   ]
  },
  {
   "cell_type": "code",
   "execution_count": 59,
   "metadata": {
    "scrolled": false
   },
   "outputs": [
    {
     "data": {
      "text/plain": [
       "array([0.31055776, 0.61022612, 0.91415986, 0.57508574, 0.06103511,\n",
       "       0.37659255, 0.46995571, 0.8502796 , 0.49183502, 0.53687423])"
      ]
     },
     "execution_count": 59,
     "metadata": {},
     "output_type": "execute_result"
    }
   ],
   "source": [
    "probs"
   ]
  },
  {
   "cell_type": "code",
   "execution_count": 67,
   "metadata": {},
   "outputs": [
    {
     "data": {
      "text/plain": [
       "array([0.36669551, 0.24320563, 0.57803237, 0.89974419, 0.05089633,\n",
       "       0.72437158, 0.28288306, 0.76860582, 0.90441922, 0.87377439])"
      ]
     },
     "execution_count": 67,
     "metadata": {},
     "output_type": "execute_result"
    }
   ],
   "source": [
    "record = np.zeros((n,2))\n",
    "probs"
   ]
  },
  {
   "cell_type": "code",
   "execution_count": 79,
   "metadata": {},
   "outputs": [
    {
     "data": {
      "text/plain": [
       "<matplotlib.collections.PathCollection at 0x2453343ea88>"
      ]
     },
     "execution_count": 79,
     "metadata": {},
     "output_type": "execute_result"
    },
    {
     "data": {
      "image/png": "[encoded data removed]",
      "text/plain": [
       "<Figure size 648x360 with 1 Axes>"
      ]
     },
     "metadata": {
      "needs_background": "light"
     },
     "output_type": "display_data"
    }
   ],
   "source": [
    "fig2,ax2 = plt.subplots(1,1)\n",
    "ax2.set_xlabel(\"Plays\")\n",
    "ax2.set_ylabel(\"Reward\")\n",
    "fig2.set_size_inches(9,5)\n",
    "ax2.scatter(np.arange(len(last)),last)"
   ]
  },
  {
   "cell_type": "code",
   "execution_count": 98,
   "metadata": {
    "scrolled": true
   },
   "outputs": [
    {
     "name": "stdout",
     "output_type": "stream",
     "text": [
      "8.0\n"
     ]
    }
   ],
   "source": [
    "reward_test = [get_reward(0.8) for _ in range(10)]\n",
    "print(np.mean(reward_test))"
   ]
  },
  {
   "cell_type": "code",
   "execution_count": 99,
   "metadata": {},
   "outputs": [
    {
     "name": "stdout",
     "output_type": "stream",
     "text": [
      "[8, 9, 9, 7, 7, 6, 9, 7, 9, 9]\n"
     ]
    }
   ],
   "source": [
    "print(reward_test)"
   ]
  },
  {
   "cell_type": "code",
   "execution_count": 3,
   "metadata": {},
   "outputs": [
    {
     "data": {
      "text/plain": [
       "<matplotlib.collections.PathCollection at 0x1db6d1b9288>"
      ]
     },
     "execution_count": 3,
     "metadata": {},
     "output_type": "execute_result"
    }
   ],
   "source": [
    "import numpy as np\n",
    "from scipy import stats\n",
    "import random\n",
    "import matplotlib.pyplot as plt\n",
    "\n",
    "n = 10\n",
    "probs = np.random.rand(n)\n",
    "def exp_reward(action,history):\n",
    "    rewards_for_action = history[action]\n",
    "    return sum(rewards_for_action_action)/len(rewards_for_action)\n",
    "def get_best_action(actions):\n",
    "    best_action = 0\n",
    "    max_action_value = 0\n",
    "    for i in range(len(actions)):\n",
    "        cur_action_value = get_action_value(actions[i])\n",
    "        if cur_action_value > max_action_value:\n",
    "            best_action = i\n",
    "            max_action_value = cur_action_value\n",
    "    return best_action\n",
    "def get_reward(prob, n = 10):\n",
    "    reward = 0\n",
    "    for i in range(n):\n",
    "        if random.random() < prob:\n",
    "            reward += 1\n",
    "    return reward\n",
    "def get_action_value(action):\n",
    "    return exp_reward(action)\n",
    "def update_record(record,action,r):\n",
    "    new_r = (record[action,0]*record[action,1]+r)/(record[action,0]+1)\n",
    "    record[action,0] += 1\n",
    "    record[action,1] = new_r\n",
    "    return record\n",
    "def get_best_arm(record):\n",
    "    arm_index = np.argmax(record[:,1],axis=0)\n",
    "    return arm_index\n",
    "last = []\n",
    "record = np.zeros((n,2))\n",
    "fig,ax = plt.subplots(1,1)\n",
    "ax.set_xlabel(\"Plays\")\n",
    "ax.set_ylabel(\"Avg Reward\")\n",
    "fig.set_size_inches(9,5)\n",
    "rewards = [0]\n",
    "for i in range(500):\n",
    "    if random.random() > 0.12:\n",
    "        choice = get_best_arm(record)\n",
    "    else:\n",
    "        choice = np.random.randint(10)\n",
    "    r = get_reward(probs[choice])\n",
    "    last.append(r)\n",
    "    record = update_record(record,choice,r)\n",
    "    mean_reward = ((i+1)*rewards[-1]+r)/(i+2)\n",
    "    rewards.append(mean_reward)\n",
    "ax.scatter(np.arange(len(rewards)),rewards)"
   ]
  },
  {
   "cell_type": "code",
   "execution_count": null,
   "metadata": {},
   "outputs": [],
   "source": []
  }
 ],
 "metadata": {
  "kernelspec": {
   "display_name": "Python 3",
   "language": "python",
   "name": "python3"
  },
  "language_info": {
   "codemirror_mode": {
    "name": "ipython",
    "version": 3
   },
   "file_extension": ".py",
   "mimetype": "text/x-python",
   "name": "python",
   "nbconvert_exporter": "python",
   "pygments_lexer": "ipython3",
   "version": "3.7.4"
  }
 },
 "nbformat": 4,
 "nbformat_minor": 2
}
