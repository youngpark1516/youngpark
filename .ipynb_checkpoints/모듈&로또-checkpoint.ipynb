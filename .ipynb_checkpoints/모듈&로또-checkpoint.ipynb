{
 "cells": [
  {
   "cell_type": "markdown",
   "metadata": {},
   "source": [
    "# 08/03/2020"
   ]
  },
  {
   "cell_type": "markdown",
   "metadata": {},
   "source": [
    "## 모듈(module)\n",
    "Java의 import"
   ]
  },
  {
   "cell_type": "markdown",
   "metadata": {},
   "source": [
    "### 모듈의 종류\n",
    "- python의 표준 모듈 \n",
    "    * 1.같은 경로의 파일들\n",
    "    * 2.설치경로\n",
    "    * 3.환경설정\n",
    "- third party (외부 모듈)\n",
    "- 사용자 정의 모듈\n",
    "\n",
    "### 모듈의 단위 : .py"
   ]
  },
  {
   "cell_type": "code",
   "execution_count": 31,
   "metadata": {},
   "outputs": [],
   "source": [
    "import keyword"
   ]
  },
  {
   "cell_type": "code",
   "execution_count": 32,
   "metadata": {},
   "outputs": [
    {
     "name": "stdout",
     "output_type": "stream",
     "text": [
      "['False', 'None', 'True', 'and', 'as', 'assert', 'async', 'await', 'break', 'class', 'continue', 'def', 'del', 'elif', 'else', 'except', 'finally', 'for', 'from', 'global', 'if', 'import', 'in', 'is', 'lambda', 'nonlocal', 'not', 'or', 'pass', 'raise', 'return', 'try', 'while', 'with', 'yield']\n"
     ]
    }
   ],
   "source": [
    "print(keyword.kwlist)"
   ]
  },
  {
   "cell_type": "code",
   "execution_count": 1,
   "metadata": {},
   "outputs": [],
   "source": [
    "import random"
   ]
  },
  {
   "cell_type": "code",
   "execution_count": 7,
   "metadata": {},
   "outputs": [
    {
     "data": {
      "text/plain": [
       "0.4517872490060427"
      ]
     },
     "execution_count": 7,
     "metadata": {},
     "output_type": "execute_result"
    }
   ],
   "source": [
    "random.random()"
   ]
  },
  {
   "cell_type": "code",
   "execution_count": 10,
   "metadata": {},
   "outputs": [
    {
     "data": {
      "text/plain": [
       "0.8858537487393459"
      ]
     },
     "execution_count": 10,
     "metadata": {},
     "output_type": "execute_result"
    }
   ],
   "source": [
    "random.random()"
   ]
  },
  {
   "cell_type": "markdown",
   "metadata": {},
   "source": [
    "### 로또\n",
    "- 1~45 사이의 숫자들\n",
    "- 6개를 고른다\n",
    "- 토요일 저녁에 추첨을 한다\n",
    "- 6개를 뽑아,보너스 1개\n",
    "- 6개를 다 맞으면 1등\n",
    "- 5개 + 보너스 맞으면 2등\n",
    "- 5개 맞으면 3등\n",
    "- 4개 맞으면 4등\n",
    "- 3개 맞으면 5등"
   ]
  },
  {
   "cell_type": "markdown",
   "metadata": {},
   "source": [
    "1. 로또 번호 생성기\n",
    "- 1~45 사이의 무작위 수\n",
    "- 뽑았던 수가 나오면 안된다.\n",
    "- 6개 숫자를 리스트에 엏는다\n",
    "---\n",
    "2. 로또 검사기\n",
    "- 이번 주 로또 당첨번호로 내가 만든 로또 번호가 몇등인지\n",
    "---\n",
    "3. 내가 1등이 되려면 몇 번 도전해야 하는지 (얼마 써야 하는지)"
   ]
  },
  {
   "cell_type": "code",
   "execution_count": 16,
   "metadata": {},
   "outputs": [
    {
     "name": "stdout",
     "output_type": "stream",
     "text": [
      "[19, 15, 9, 32, 19, 36]\n"
     ]
    }
   ],
   "source": [
    "c = [0]\n",
    "num = 1\n",
    "while num < 7:\n",
    "    a = random.random()\n",
    "    b = int(a*45)+1\n",
    "    if(c[-1] == b):\n",
    "        continue\n",
    "    c.append(b)\n",
    "    num +=1\n",
    "c.pop(0)\n",
    "print(c)"
   ]
  },
  {
   "cell_type": "code",
   "execution_count": 26,
   "metadata": {
    "scrolled": false
   },
   "outputs": [
    {
     "name": "stdout",
     "output_type": "stream",
     "text": [
      "[3, 6, 42, 45, 21, 30]\n"
     ]
    }
   ],
   "source": [
    "num = 1\n",
    "c = []\n",
    "while num < 6:\n",
    "    a = random.random()\n",
    "    b = int(a*45)+1\n",
    "    c.append(b)\n",
    "    c = set(c)\n",
    "    c = list(c)\n",
    "    num = len(c)\n",
    "print(c)"
   ]
  },
  {
   "cell_type": "code",
   "execution_count": 42,
   "metadata": {},
   "outputs": [
    {
     "name": "stdout",
     "output_type": "stream",
     "text": [
      "[22, 40, 19, 13, 34, 17]\n"
     ]
    }
   ],
   "source": [
    "num = 0 #while 종료조건때문에 : 6개 넣어야하니까,\n",
    "lotto = []  #리스트 \n",
    "while True:\n",
    "    temp_random = random.random()\n",
    "    real_random = int(temp_random*45)+1\n",
    "\n",
    "    if (len(lotto)==0):\n",
    "        lotto.append(real_random)\n",
    "        num += 1\n",
    "        \n",
    "    count_num = 0\n",
    "    for i in lotto:\n",
    "        if (i == real_random):\n",
    "            count_num=1\n",
    "    \n",
    "    if count_num ==0:\n",
    "        lotto.append(real_random)\n",
    "        num += 1\n",
    "        \n",
    "    \n",
    "    if(num >= 6):\n",
    "        break\n",
    "print(lotto)"
   ]
  },
  {
   "cell_type": "code",
   "execution_count": 21,
   "metadata": {},
   "outputs": [
    {
     "name": "stdout",
     "output_type": "stream",
     "text": [
      "[24, 17, 6, 1, 45, 8]\n"
     ]
    }
   ],
   "source": [
    "num = 0 #while 종료조건때문에 : 6개 넣어야하니까,\n",
    "lotto = []  #리스트 \n",
    "while True:\n",
    "    temp_random = random.random()\n",
    "    real_random = int(temp_random*45)+1\n",
    "    \n",
    "    if (len(lotto)==0):\n",
    "        lotto.append(real_random)\n",
    "        num += 1\n",
    "    cn = 0\n",
    "    count_num = 0\n",
    "    while cn < len(lotto):\n",
    "        if (lotto[cn] == real_random):\n",
    "            count_num=1\n",
    "        cn+=1\n",
    "    \n",
    "    if count_num ==0:\n",
    "        lotto.append(real_random)\n",
    "        num += 1\n",
    "        \n",
    "    \n",
    "    if(num >= 6):\n",
    "        break\n",
    "print(lotto)"
   ]
  },
  {
   "cell_type": "markdown",
   "metadata": {},
   "source": [
    "## 지난 주에 내가 로또레 당첨이 되려 하면 몇 번만에 당첨이 될까?"
   ]
  },
  {
   "cell_type": "code",
   "execution_count": 1,
   "metadata": {
    "scrolled": false
   },
   "outputs": [
    {
     "name": "stdout",
     "output_type": "stream",
     "text": [
      "100000 번째 시도중\n",
      "200000 번째 시도중\n",
      "300000 번째 시도중\n",
      "400000 번째 시도중\n",
      "500000 번째 시도중\n",
      "600000 번째 시도중\n",
      "700000 번째 시도중\n",
      "800000 번째 시도중\n",
      "900000 번째 시도중\n",
      "1000000 번째 시도중\n",
      "1100000 번째 시도중\n",
      "1200000 번째 시도중\n",
      "1300000 번째 시도중\n",
      "1400000 번째 시도중\n",
      "1500000 번째 시도중\n",
      "1600000 번째 시도중\n",
      "1700000 번째 시도중\n",
      "1800000 번째 시도중\n",
      "1900000 번째 시도중\n",
      "2000000 번째 시도중\n",
      "2100000 번째 시도중\n",
      "2200000 번째 시도중\n",
      "2300000 번째 시도중\n",
      "2400000 번째 시도중\n",
      "2500000 번째 시도중\n",
      "2600000 번째 시도중\n",
      "2700000 번째 시도중\n",
      "2800000 번째 시도중\n",
      "2900000 번째 시도중\n",
      "3000000 번째 시도중\n",
      "3100000 번째 시도중\n",
      "3200000 번째 시도중\n",
      "3300000 번째 시도중\n",
      "3400000 번째 시도중\n",
      "3500000 번째 시도중\n",
      "3600000 번째 시도중\n",
      "3700000 번째 시도중\n",
      "3800000 번째 시도중\n",
      "3900000 번째 시도중\n",
      "4000000 번째 시도중\n",
      "4100000 번째 시도중\n",
      "4200000 번째 시도중\n",
      "4300000 번째 시도중\n",
      "4400000 번째 시도중\n",
      "4500000 번째 시도중\n",
      "4600000 번째 시도중\n",
      "4700000 번째 시도중\n",
      "4800000 번째 시도중\n",
      "4900000 번째 시도중\n",
      "5000000 번째 시도중\n",
      "5100000 번째 시도중\n",
      "5200000 번째 시도중\n",
      "5300000 번째 시도중\n",
      "5400000 번째 시도중\n",
      "5500000 번째 시도중\n",
      "5600000 번째 시도중\n",
      "5700000 번째 시도중\n",
      "5800000 번째 시도중\n",
      "5900000 번째 시도중\n",
      "6000000 번째 시도중\n",
      "6100000 번째 시도중\n",
      "6200000 번째 시도중\n",
      "6300000 번째 시도중\n",
      "6400000 번째 시도중\n",
      "6500000 번째 시도중\n",
      "6600000 번째 시도중\n",
      "6700000 번째 시도중\n",
      "6800000 번째 시도중\n",
      "6900000 번째 시도중\n",
      "7000000 번째 시도중\n",
      "7100000 번째 시도중\n",
      "7200000 번째 시도중\n",
      "7300000 번째 시도중\n",
      "7400000 번째 시도중\n",
      "7500000 번째 시도중\n",
      "7600000 번째 시도중\n",
      "7700000 번째 시도중\n",
      "7800000 번째 시도중\n",
      "7900000 번째 시도중\n",
      "8000000 번째 시도중\n",
      "8100000 번째 시도중\n",
      "8200000 번째 시도중\n",
      "8300000 번째 시도중\n",
      "8400000 번째 시도중\n",
      "8500000 번째 시도중\n",
      "8600000 번째 시도중\n",
      "8700000 번째 시도중\n",
      "8800000 번째 시도중\n",
      "8900000 번째 시도중\n",
      "9000000 번째 시도중\n",
      "9100000 번째 시도중\n",
      "9200000 번째 시도중\n",
      "9300000 번째 시도중\n",
      "9400000 번째 시도중\n",
      "9500000 번째 시도중\n",
      "9600000 번째 시도중\n",
      "9700000 번째 시도중\n",
      "9800000 번째 시도중\n",
      "9900000 번째 시도중\n",
      "10000000 번째 시도중\n",
      "10100000 번째 시도중\n",
      "10200000 번째 시도중\n",
      "10300000 번째 시도중\n",
      "10400000 번째 시도중\n",
      "10500000 번째 시도중\n",
      "10600000 번째 시도중\n",
      "10700000 번째 시도중\n",
      "10800000 번째 시도중\n",
      "10900000 번째 시도중\n",
      "11000000 번째 시도중\n",
      "11100000 번째 시도중\n",
      "11200000 번째 시도중\n",
      "11300000 번째 시도중\n",
      "11400000 번째 시도중\n",
      "11500000 번째 시도중\n",
      "11600000 번째 시도중\n",
      "11700000 번째 시도중\n",
      "11800000 번째 시도중\n",
      "11900000 번째 시도중\n",
      "12000000 번째 시도중\n",
      "12100000 번째 시도중\n",
      "12200000 번째 시도중\n",
      "12300000 번째 시도중\n",
      "12400000 번째 시도중\n",
      "12421493\n"
     ]
    }
   ],
   "source": [
    "import random\n",
    "trials = 0\n",
    "dangchum = [5,18,20,23,30,34]\n",
    "while True:\n",
    "    num = 1\n",
    "    lotto = []\n",
    "    while num < 6:\n",
    "        raw = random.random()\n",
    "        reallotto = int(raw*45)+1\n",
    "        lotto.append(reallotto)\n",
    "        lotto = set(lotto)\n",
    "        lotto = list(lotto)\n",
    "        num = len(lotto)\n",
    "        lotto.sort()\n",
    "    if lotto == dangchum:\n",
    "        break\n",
    "    else:\n",
    "        trials += 1\n",
    "    if trials % 100000 == 0:\n",
    "        print(trials,'번째 시도중')\n",
    "print(trials)"
   ]
  },
  {
   "cell_type": "code",
   "execution_count": 5,
   "metadata": {},
   "outputs": [
    {
     "name": "stdout",
     "output_type": "stream",
     "text": [
      "[17, 19, 38, 2, 14, 25]\n"
     ]
    }
   ],
   "source": [
    "create_lotto = []\n",
    "while True:\n",
    "    temp_number = random.randint(1,45)\n",
    "    if temp_number not in create_lotto:\n",
    "        create_lotto.append(temp_number)\n",
    "    \n",
    "    if len(create_lotto) == 6:\n",
    "        break\n",
    "print(create_lotto)"
   ]
  },
  {
   "cell_type": "code",
   "execution_count": null,
   "metadata": {},
   "outputs": [],
   "source": [
    "import random\n",
    "trials = 0\n",
    "dangchum = [5,18,20,23,30,34]\n",
    "bonus = 7\n",
    "while True:\n",
    "    create_lotto = random.sample(range(1,46),6)\n",
    "    a = 0\n",
    "    correct = 0\n",
    "    while a <6:\n",
    "        if create_lotto[a] in dangchum:\n",
    "            correct += 1\n",
    "        a +=1\n",
    "    if correct == 5:\n",
    "        if bonus in create_lotto:\n",
    "            break\n",
    "    else:\n",
    "        trials += 1\n",
    "    if trials % 100000 == 0:\n",
    "        print(trials,'번째 시도중')\n",
    "print(trials)"
   ]
  },
  {
   "cell_type": "code",
   "execution_count": 2,
   "metadata": {},
   "outputs": [
    {
     "name": "stdout",
     "output_type": "stream",
     "text": [
      "3964\n"
     ]
    }
   ],
   "source": [
    "import random\n",
    "trials = 0\n",
    "dangchum = [5,18,20,23,30,34]\n",
    "bonus = 7\n",
    "while True:\n",
    "    create_lotto = random.sample(range(1,46),6)\n",
    "    a = 0\n",
    "    correct = 0\n",
    "    while a <6:\n",
    "        if create_lotto[a] in dangchum:\n",
    "            correct += 1\n",
    "        a +=1\n",
    "    if correct == 5:\n",
    "        break\n",
    "    else:\n",
    "        trials += 1\n",
    "    if trials % 100000 == 0:\n",
    "        print(trials,'번째 시도중')\n",
    "print(trials)"
   ]
  },
  {
   "cell_type": "code",
   "execution_count": 3,
   "metadata": {},
   "outputs": [
    {
     "name": "stdout",
     "output_type": "stream",
     "text": [
      "950\n"
     ]
    }
   ],
   "source": [
    "import random\n",
    "trials = 0\n",
    "dangchum = [5,18,20,23,30,34]\n",
    "bonus = 7\n",
    "while True:\n",
    "    create_lotto = random.sample(range(1,46),6)\n",
    "    a = 0\n",
    "    correct = 0\n",
    "    while a <6:\n",
    "        if create_lotto[a] in dangchum:\n",
    "            correct += 1\n",
    "        a +=1\n",
    "    if correct == 4:\n",
    "        break\n",
    "    else:\n",
    "        trials += 1\n",
    "    if trials % 100000 == 0:\n",
    "        print(trials,'번째 시도중')\n",
    "print(trials)"
   ]
  },
  {
   "cell_type": "code",
   "execution_count": 4,
   "metadata": {},
   "outputs": [
    {
     "name": "stdout",
     "output_type": "stream",
     "text": [
      "8\n"
     ]
    }
   ],
   "source": [
    "import random\n",
    "trials = 0\n",
    "dangchum = [5,18,20,23,30,34]\n",
    "bonus = 7\n",
    "while True:\n",
    "    create_lotto = random.sample(range(1,46),6)\n",
    "    a = 0\n",
    "    correct = 0\n",
    "    while a <6:\n",
    "        if create_lotto[a] in dangchum:\n",
    "            correct += 1\n",
    "        a +=1\n",
    "    if correct == 3:\n",
    "        break\n",
    "    else:\n",
    "        trials += 1\n",
    "    if trials % 100000 == 0:\n",
    "        print(trials,'번째 시도중')\n",
    "print(trials)"
   ]
  },
  {
   "cell_type": "code",
   "execution_count": null,
   "metadata": {},
   "outputs": [],
   "source": []
  }
 ],
 "metadata": {
  "kernelspec": {
   "display_name": "Python 3",
   "language": "python",
   "name": "python3"
  },
  "language_info": {
   "codemirror_mode": {
    "name": "ipython",
    "version": 3
   },
   "file_extension": ".py",
   "mimetype": "text/x-python",
   "name": "python",
   "nbconvert_exporter": "python",
   "pygments_lexer": "ipython3",
   "version": "3.7.4"
  }
 },
 "nbformat": 4,
 "nbformat_minor": 2
}
