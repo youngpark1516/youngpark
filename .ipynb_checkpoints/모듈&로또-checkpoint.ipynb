{
 "cells": [
  {
   "cell_type": "markdown",
   "metadata": {},
   "source": [
    "# 08/03/2020"
   ]
  },
  {
   "cell_type": "markdown",
   "metadata": {},
   "source": [
    "## 모듈(module)\n",
    "Java의 import"
   ]
  },
  {
   "cell_type": "markdown",
   "metadata": {},
   "source": [
    "### 모듈의 종류\n",
    "- python의 표준 모듈 \n",
    "    * 1.같은 경로의 파일들\n",
    "    * 2.설치경로\n",
    "    * 3.환경설정\n",
    "- third party (외부 모듈)\n",
    "- 사용자 정의 모듈\n",
    "\n",
    "### 모듈의 단위 : .py"
   ]
  },
  {
   "cell_type": "code",
   "execution_count": 1,
   "metadata": {},
   "outputs": [],
   "source": [
    "import keyword"
   ]
  },
  {
   "cell_type": "code",
   "execution_count": 2,
   "metadata": {},
   "outputs": [
    {
     "name": "stdout",
     "output_type": "stream",
     "text": [
      "['False', 'None', 'True', 'and', 'as', 'assert', 'async', 'await', 'break', 'class', 'continue', 'def', 'del', 'elif', 'else', 'except', 'finally', 'for', 'from', 'global', 'if', 'import', 'in', 'is', 'lambda', 'nonlocal', 'not', 'or', 'pass', 'raise', 'return', 'try', 'while', 'with', 'yield']\n"
     ]
    }
   ],
   "source": [
    "print(keyword.kwlist)"
   ]
  },
  {
   "cell_type": "code",
   "execution_count": 3,
   "metadata": {},
   "outputs": [],
   "source": [
    "import random"
   ]
  },
  {
   "cell_type": "code",
   "execution_count": 4,
   "metadata": {},
   "outputs": [
    {
     "data": {
      "text/plain": [
       "0.27826525383136025"
      ]
     },
     "execution_count": 4,
     "metadata": {},
     "output_type": "execute_result"
    }
   ],
   "source": [
    "random.random()"
   ]
  },
  {
   "cell_type": "code",
   "execution_count": 23,
   "metadata": {},
   "outputs": [
    {
     "data": {
      "text/plain": [
       "0.8685560133242684"
      ]
     },
     "execution_count": 23,
     "metadata": {},
     "output_type": "execute_result"
    }
   ],
   "source": [
    "random.random()"
   ]
  },
  {
   "cell_type": "markdown",
   "metadata": {},
   "source": [
    "### 로또\n",
    "- 1~45 사이의 숫자들\n",
    "- 6개를 고른다\n",
    "- 토요일 저녁에 추첨을 한다\n",
    "- 6개를 뽑아,보너스 1개\n",
    "- 6개를 다 맞으면 1등\n",
    "- 5개 + 보너스 맞으면 2등\n",
    "- 5개 맞으면 3등\n",
    "- 4개 맞으면 4등\n",
    "- 3개 맞으면 5등"
   ]
  },
  {
   "cell_type": "markdown",
   "metadata": {},
   "source": [
    "1. 로또 번호 생성기\n",
    "- 1~45 사이의 무작위 수\n",
    "- 뽑았던 수가 나오면 안된다.\n",
    "- 6개 숫자를 리스트에 엏는다\n",
    "---\n",
    "2. 로또 검사기\n",
    "- 이번 주 로또 당첨번호로 내가 만든 로또 번호가 몇등인지\n",
    "---\n",
    "3. 내가 1등이 되려면 몇 번 도전해야 하는지 (얼마 써야 하는지)"
   ]
  },
  {
   "cell_type": "code",
   "execution_count": 16,
   "metadata": {},
   "outputs": [
    {
     "name": "stdout",
     "output_type": "stream",
     "text": [
      "[19, 15, 9, 32, 19, 36]\n"
     ]
    }
   ],
   "source": [
    "c = [0]\n",
    "num = 1\n",
    "while num < 7:\n",
    "    a = random.random()\n",
    "    b = int(a*45)+1\n",
    "    if(c[-1] == b):\n",
    "        continue\n",
    "    c.append(b)\n",
    "    num +=1\n",
    "c.pop(0)\n",
    "print(c)"
   ]
  },
  {
   "cell_type": "code",
   "execution_count": 26,
   "metadata": {
    "scrolled": false
   },
   "outputs": [
    {
     "name": "stdout",
     "output_type": "stream",
     "text": [
      "[3, 6, 42, 45, 21, 30]\n"
     ]
    }
   ],
   "source": [
    "num = 1\n",
    "c = []\n",
    "while num < 6:\n",
    "    a = random.random()\n",
    "    b = int(a*45)+1\n",
    "    c.append(b)\n",
    "    c = set(c)\n",
    "    c = list(c)\n",
    "    num = len(c)\n",
    "print(c)"
   ]
  },
  {
   "cell_type": "code",
   "execution_count": 4,
   "metadata": {},
   "outputs": [
    {
     "name": "stdout",
     "output_type": "stream",
     "text": [
      "[28, 11, 5, 16, 41, 12]\n"
     ]
    }
   ],
   "source": [
    "num = 0 #while 종료조건때문에 : 6개 넣어야하니까,\n",
    "lotto = []  #리스트 \n",
    "while True:\n",
    "    temp_random = random.random()\n",
    "    real_random = int(temp_random*45)+1\n",
    "\n",
    "    if (len(lotto)==0):\n",
    "        lotto.append(real_random)\n",
    "        num += 1\n",
    "        \n",
    "    count_num = 0\n",
    "    for i in lotto:\n",
    "        if (i == real_random):\n",
    "            count_num=1\n",
    "    \n",
    "    if count_num ==0:\n",
    "        lotto.append(real_random)\n",
    "        num += 1\n",
    "        \n",
    "    \n",
    "    if(num >= 6):\n",
    "        break\n",
    "print(lotto)"
   ]
  },
  {
   "cell_type": "code",
   "execution_count": 8,
   "metadata": {},
   "outputs": [
    {
     "name": "stdout",
     "output_type": "stream",
     "text": [
      "[10, 23, 3, 12, 18, 1]\n"
     ]
    }
   ],
   "source": [
    "num = 0\n",
    "lotto = []\n",
    "while True:\n",
    "    temp_random = random.random()\n",
    "    real_random = int(temp_random*45)+1\n",
    "    \n",
    "    if (len(lotto)==0):\n",
    "        lotto.append(real_random)\n",
    "        num += 1\n",
    "    cn = 0\n",
    "    count_num = 0\n",
    "    while cn < len(lotto):\n",
    "        if (lotto[cn] == real_random):\n",
    "            count_num=1\n",
    "        cn+=1\n",
    "    \n",
    "    if count_num ==0:\n",
    "        lotto.append(real_random)\n",
    "        num += 1\n",
    "        \n",
    "    \n",
    "    if(num >= 6):\n",
    "        break\n",
    "print(lotto)"
   ]
  },
  {
   "cell_type": "markdown",
   "metadata": {},
   "source": [
    "## 지난 주에 내가 로또레 당첨이 되려 하면 몇 번만에 당첨이 될까?"
   ]
  },
  {
   "cell_type": "code",
   "execution_count": 1,
   "metadata": {
    "collapsed": true
   },
   "outputs": [
    {
     "name": "stdout",
     "output_type": "stream",
     "text": [
      "100000 번째 시도중\n",
      "200000 번째 시도중\n",
      "300000 번째 시도중\n",
      "400000 번째 시도중\n",
      "500000 번째 시도중\n",
      "600000 번째 시도중\n",
      "700000 번째 시도중\n",
      "800000 번째 시도중\n",
      "900000 번째 시도중\n",
      "1000000 번째 시도중\n",
      "1100000 번째 시도중\n",
      "1200000 번째 시도중\n",
      "1300000 번째 시도중\n",
      "1400000 번째 시도중\n",
      "1500000 번째 시도중\n",
      "1600000 번째 시도중\n",
      "1700000 번째 시도중\n",
      "1800000 번째 시도중\n",
      "1900000 번째 시도중\n",
      "2000000 번째 시도중\n",
      "2100000 번째 시도중\n",
      "2200000 번째 시도중\n",
      "2300000 번째 시도중\n",
      "2400000 번째 시도중\n",
      "2500000 번째 시도중\n",
      "2600000 번째 시도중\n",
      "2700000 번째 시도중\n",
      "2800000 번째 시도중\n",
      "2900000 번째 시도중\n",
      "3000000 번째 시도중\n",
      "3100000 번째 시도중\n",
      "3200000 번째 시도중\n",
      "3300000 번째 시도중\n",
      "3400000 번째 시도중\n",
      "3500000 번째 시도중\n",
      "3600000 번째 시도중\n",
      "3700000 번째 시도중\n",
      "3800000 번째 시도중\n",
      "3900000 번째 시도중\n",
      "4000000 번째 시도중\n",
      "4100000 번째 시도중\n",
      "4200000 번째 시도중\n",
      "4300000 번째 시도중\n",
      "4400000 번째 시도중\n",
      "4500000 번째 시도중\n",
      "4600000 번째 시도중\n",
      "4700000 번째 시도중\n",
      "4800000 번째 시도중\n",
      "4900000 번째 시도중\n",
      "5000000 번째 시도중\n",
      "5100000 번째 시도중\n",
      "5200000 번째 시도중\n",
      "5300000 번째 시도중\n",
      "5400000 번째 시도중\n",
      "5500000 번째 시도중\n",
      "5600000 번째 시도중\n",
      "5700000 번째 시도중\n",
      "5800000 번째 시도중\n",
      "5900000 번째 시도중\n",
      "6000000 번째 시도중\n",
      "6100000 번째 시도중\n",
      "6200000 번째 시도중\n",
      "6300000 번째 시도중\n",
      "6400000 번째 시도중\n",
      "6500000 번째 시도중\n",
      "6600000 번째 시도중\n",
      "6700000 번째 시도중\n",
      "6800000 번째 시도중\n",
      "6900000 번째 시도중\n",
      "7000000 번째 시도중\n",
      "7100000 번째 시도중\n",
      "7200000 번째 시도중\n",
      "7300000 번째 시도중\n",
      "7400000 번째 시도중\n",
      "7500000 번째 시도중\n",
      "7600000 번째 시도중\n",
      "7700000 번째 시도중\n",
      "7800000 번째 시도중\n",
      "7900000 번째 시도중\n",
      "8000000 번째 시도중\n",
      "8100000 번째 시도중\n",
      "8200000 번째 시도중\n",
      "8300000 번째 시도중\n",
      "8400000 번째 시도중\n",
      "8500000 번째 시도중\n",
      "8600000 번째 시도중\n",
      "8700000 번째 시도중\n",
      "8800000 번째 시도중\n",
      "8900000 번째 시도중\n",
      "9000000 번째 시도중\n",
      "9100000 번째 시도중\n",
      "9200000 번째 시도중\n",
      "9300000 번째 시도중\n",
      "9400000 번째 시도중\n",
      "9500000 번째 시도중\n",
      "9600000 번째 시도중\n",
      "9700000 번째 시도중\n",
      "9800000 번째 시도중\n",
      "9900000 번째 시도중\n",
      "10000000 번째 시도중\n",
      "10100000 번째 시도중\n",
      "10200000 번째 시도중\n",
      "10300000 번째 시도중\n",
      "10400000 번째 시도중\n",
      "10500000 번째 시도중\n",
      "10600000 번째 시도중\n",
      "10700000 번째 시도중\n",
      "10800000 번째 시도중\n",
      "10900000 번째 시도중\n",
      "11000000 번째 시도중\n",
      "11100000 번째 시도중\n",
      "11200000 번째 시도중\n",
      "11300000 번째 시도중\n",
      "11400000 번째 시도중\n",
      "11500000 번째 시도중\n",
      "11600000 번째 시도중\n",
      "11700000 번째 시도중\n",
      "11800000 번째 시도중\n",
      "11900000 번째 시도중\n",
      "12000000 번째 시도중\n",
      "12100000 번째 시도중\n",
      "12200000 번째 시도중\n",
      "12300000 번째 시도중\n",
      "12400000 번째 시도중\n",
      "12421493\n"
     ]
    }
   ],
   "source": [
    "import random\n",
    "trials = 0\n",
    "dangchum = [5,18,20,23,30,34]\n",
    "while True:\n",
    "    num = 1\n",
    "    lotto = []\n",
    "    while num < 6:\n",
    "        raw = random.random()\n",
    "        reallotto = int(raw*45)+1\n",
    "        lotto.append(reallotto)\n",
    "        lotto = set(lotto)\n",
    "        lotto = list(lotto)\n",
    "        num = len(lotto)\n",
    "        lotto.sort()\n",
    "    if lotto == dangchum:\n",
    "        break\n",
    "    else:\n",
    "        trials += 1\n",
    "    if trials % 100000 == 0:\n",
    "        print(trials,'번째 시도중')\n",
    "print(trials)"
   ]
  },
  {
   "cell_type": "code",
   "execution_count": 5,
   "metadata": {},
   "outputs": [
    {
     "name": "stdout",
     "output_type": "stream",
     "text": [
      "[17, 19, 38, 2, 14, 25]\n"
     ]
    }
   ],
   "source": [
    "create_lotto = []\n",
    "while True:\n",
    "    temp_number = random.randint(1,45)\n",
    "    if temp_number not in create_lotto:\n",
    "        create_lotto.append(temp_number)\n",
    "    \n",
    "    if len(create_lotto) == 6:\n",
    "        break\n",
    "print(create_lotto)"
   ]
  },
  {
   "cell_type": "code",
   "execution_count": 19,
   "metadata": {
    "scrolled": true
   },
   "outputs": [
    {
     "name": "stdout",
     "output_type": "stream",
     "text": [
      "100000 번째 시도중\n",
      "200000 번째 시도중\n",
      "300000 번째 시도중\n",
      "400000 번째 시도중\n",
      "500000 번째 시도중\n",
      "600000 번째 시도중\n",
      "676432\n"
     ]
    }
   ],
   "source": [
    "import random\n",
    "trials = 0\n",
    "dangchum = [5,18,20,23,30,34]\n",
    "bonus = 7\n",
    "while True:\n",
    "    create_lotto = random.sample(range(1,46),6)\n",
    "    a = 0\n",
    "    correct = 0\n",
    "    while a <6:\n",
    "        if create_lotto[a] in dangchum:\n",
    "            correct += 1\n",
    "        a +=1\n",
    "    if correct == 5:\n",
    "        if bonus in create_lotto:\n",
    "            break\n",
    "    else:\n",
    "        trials += 1\n",
    "    if trials % 100000 == 0:\n",
    "        print(trials,'번째 시도중')\n",
    "print(trials)"
   ]
  },
  {
   "cell_type": "code",
   "execution_count": 2,
   "metadata": {},
   "outputs": [
    {
     "name": "stdout",
     "output_type": "stream",
     "text": [
      "3964\n"
     ]
    }
   ],
   "source": [
    "import random\n",
    "trials = 0\n",
    "dangchum = [5,18,20,23,30,34]\n",
    "bonus = 7\n",
    "while True:\n",
    "    create_lotto = random.sample(range(1,46),6)\n",
    "    a = 0\n",
    "    correct = 0\n",
    "    while a <6:\n",
    "        if create_lotto[a] in dangchum:\n",
    "            correct += 1\n",
    "        a +=1\n",
    "    if correct == 5:\n",
    "        break\n",
    "    else:\n",
    "        trials += 1\n",
    "    if trials % 100000 == 0:\n",
    "        print(trials,'번째 시도중')\n",
    "print(trials)"
   ]
  },
  {
   "cell_type": "code",
   "execution_count": 18,
   "metadata": {},
   "outputs": [
    {
     "name": "stdout",
     "output_type": "stream",
     "text": [
      "256\n"
     ]
    }
   ],
   "source": [
    "import random\n",
    "trials = 0\n",
    "dangchum = [5,18,20,23,30,34]\n",
    "bonus = 7\n",
    "while True:\n",
    "    create_lotto = random.sample(range(1,46),6)\n",
    "    a = 0\n",
    "    correct = 0\n",
    "    while a <6:\n",
    "        if create_lotto[a] in dangchum:\n",
    "            correct += 1\n",
    "        a +=1\n",
    "    if correct == 4:\n",
    "        break\n",
    "    else:\n",
    "        trials += 1\n",
    "    if trials % 100000 == 0:\n",
    "        print(trials,'번째 시도중')\n",
    "print(trials)"
   ]
  },
  {
   "cell_type": "code",
   "execution_count": 28,
   "metadata": {
    "scrolled": true
   },
   "outputs": [
    {
     "name": "stdout",
     "output_type": "stream",
     "text": [
      "42\n"
     ]
    }
   ],
   "source": [
    "import random\n",
    "trials = 0\n",
    "dangchum = [5,18,20,23,30,34]\n",
    "bonus = 7\n",
    "while True:\n",
    "    create_lotto = random.sample(range(1,46),6)\n",
    "    a = 0\n",
    "    correct = 0\n",
    "    while a <6:\n",
    "        if create_lotto[a] in dangchum:\n",
    "            correct += 1\n",
    "        a +=1\n",
    "    if correct == 3:\n",
    "        break\n",
    "    else:\n",
    "        trials += 1\n",
    "    if trials % 100000 == 0:\n",
    "        print(trials,'번째 시도중')\n",
    "print(trials)"
   ]
  },
  {
   "cell_type": "markdown",
   "metadata": {},
   "source": [
    "# 1. 10만원으로 로또를 사게 되면, 얼마를 벌 수 있을까요 …?\n",
    "- 한국에서, 로또를 한번에 살 수 있는 최대 금액이 10만원\n",
    "- 한번에 1천원(100번)\n",
    "- 지난 주 로또 당첨 번호를 기준으로…!\n",
    "- 1등 10억, 2등 1억, 3등 1천, 4등 1백, 5등 5천원"
   ]
  },
  {
   "cell_type": "code",
   "execution_count": 4,
   "metadata": {},
   "outputs": [
    {
     "name": "stdout",
     "output_type": "stream",
     "text": [
      "15000\n"
     ]
    }
   ],
   "source": [
    "import random\n",
    "trial = 0\n",
    "dangchum = [5,18,20,23,30,34]\n",
    "bonus = 7\n",
    "first = 0\n",
    "second = 0\n",
    "third = 0\n",
    "fourth = 0\n",
    "fifth = 0\n",
    "for i in range(100):\n",
    "    create_lotto = random.sample(range(1,46),6)\n",
    "    correct = 0\n",
    "    a = 0\n",
    "    while a <6:\n",
    "        if create_lotto[a] in dangchum:\n",
    "            correct += 1\n",
    "        a +=1\n",
    "    if correct == 6:\n",
    "        first +=1\n",
    "    elif correct == 5:\n",
    "        if bonus in create_lotto:\n",
    "            second += 1\n",
    "    elif correct == 5:\n",
    "        third += 1\n",
    "    elif correct == 4:\n",
    "        fourth += 1\n",
    "    elif correct == 3:\n",
    "        fifth += 1\n",
    "don = first*1000000000+second*100000000+third*10000000+fourth*1000000+fifth*5000\n",
    "print(don)"
   ]
  },
  {
   "cell_type": "markdown",
   "metadata": {},
   "source": [
    "## 2. 일주일에 1장(5번, 5천원) ~ 2장(10번,1만원)..\n",
    "- 나는 일주일에 2장을 살거고, 매 주 살겁니다.\n",
    "- 내가 만약 1등이 당첨되려면.. 몇 년 걸릴까요 ?\n",
    "- 이 때, 당첨번호는 그냥 이번 주 당첨번호로 통일"
   ]
  },
  {
   "cell_type": "code",
   "execution_count": 2,
   "metadata": {
    "collapsed": true
   },
   "outputs": [
    {
     "name": "stdout",
     "output_type": "stream",
     "text": [
      "100000 번째 시도중\n",
      "200000 번째 시도중\n",
      "300000 번째 시도중\n",
      "400000 번째 시도중\n",
      "500000 번째 시도중\n",
      "600000 번째 시도중\n",
      "700000 번째 시도중\n",
      "800000 번째 시도중\n",
      "900000 번째 시도중\n",
      "1000000 번째 시도중\n",
      "1100000 번째 시도중\n",
      "1200000 번째 시도중\n",
      "1300000 번째 시도중\n",
      "1400000 번째 시도중\n",
      "1500000 번째 시도중\n",
      "1600000 번째 시도중\n",
      "1700000 번째 시도중\n",
      "1800000 번째 시도중\n",
      "1900000 번째 시도중\n",
      "2000000 번째 시도중\n",
      "2100000 번째 시도중\n",
      "2200000 번째 시도중\n",
      "2300000 번째 시도중\n",
      "2400000 번째 시도중\n",
      "2500000 번째 시도중\n",
      "2600000 번째 시도중\n",
      "2700000 번째 시도중\n",
      "2800000 번째 시도중\n",
      "2900000 번째 시도중\n",
      "3000000 번째 시도중\n",
      "3100000 번째 시도중\n",
      "3200000 번째 시도중\n",
      "3300000 번째 시도중\n",
      "3400000 번째 시도중\n",
      "3500000 번째 시도중\n",
      "3600000 번째 시도중\n",
      "3700000 번째 시도중\n",
      "3800000 번째 시도중\n",
      "3900000 번째 시도중\n",
      "4000000 번째 시도중\n",
      "4100000 번째 시도중\n",
      "4200000 번째 시도중\n",
      "4300000 번째 시도중\n",
      "4400000 번째 시도중\n",
      "4500000 번째 시도중\n",
      "4600000 번째 시도중\n",
      "4700000 번째 시도중\n",
      "4800000 번째 시도중\n",
      "4900000 번째 시도중\n",
      "5000000 번째 시도중\n",
      "5100000 번째 시도중\n",
      "5200000 번째 시도중\n",
      "5300000 번째 시도중\n",
      "5400000 번째 시도중\n",
      "5500000 번째 시도중\n",
      "5600000 번째 시도중\n",
      "5700000 번째 시도중\n",
      "5800000 번째 시도중\n",
      "5900000 번째 시도중\n",
      "6000000 번째 시도중\n",
      "6100000 번째 시도중\n",
      "6200000 번째 시도중\n",
      "6300000 번째 시도중\n",
      "6400000 번째 시도중\n",
      "6500000 번째 시도중\n",
      "6600000 번째 시도중\n",
      "6700000 번째 시도중\n",
      "6800000 번째 시도중\n",
      "6900000 번째 시도중\n",
      "7000000 번째 시도중\n",
      "7100000 번째 시도중\n",
      "7200000 번째 시도중\n",
      "7300000 번째 시도중\n",
      "7400000 번째 시도중\n",
      "7500000 번째 시도중\n",
      "7600000 번째 시도중\n",
      "7700000 번째 시도중\n",
      "7800000 번째 시도중\n",
      "7900000 번째 시도중\n",
      "8000000 번째 시도중\n",
      "8100000 번째 시도중\n",
      "8200000 번째 시도중\n",
      "8300000 번째 시도중\n",
      "8400000 번째 시도중\n",
      "8500000 번째 시도중\n",
      "8600000 번째 시도중\n",
      "8700000 번째 시도중\n",
      "8800000 번째 시도중\n",
      "8900000 번째 시도중\n",
      "9000000 번째 시도중\n",
      "9100000 번째 시도중\n",
      "9200000 번째 시도중\n",
      "9300000 번째 시도중\n",
      "9400000 번째 시도중\n",
      "9500000 번째 시도중\n",
      "9600000 번째 시도중\n",
      "9700000 번째 시도중\n",
      "9800000 번째 시도중\n",
      "9900000 번째 시도중\n",
      "10000000 번째 시도중\n",
      "10100000 번째 시도중\n",
      "10200000 번째 시도중\n",
      "10300000 번째 시도중\n",
      "19941.348076923077 년이 걸린다\n"
     ]
    }
   ],
   "source": [
    "import random\n",
    "trials = 0\n",
    "dangchum = [5,18,20,23,30,34]\n",
    "bonus = 7\n",
    "while True:\n",
    "    create_lotto = random.sample(range(1,46),6)\n",
    "    a = 0\n",
    "    correct = 0\n",
    "    while a <6:\n",
    "        if create_lotto[a] in dangchum:\n",
    "            correct += 1\n",
    "        a +=1\n",
    "    if correct == 6:\n",
    "        break\n",
    "    else:\n",
    "        trials += 1\n",
    "    if trials % 100000 == 0:\n",
    "        print(trials,'번째 시도중')\n",
    "sigan = trials/520\n",
    "print(sigan, '년이 걸린다')"
   ]
  },
  {
   "cell_type": "markdown",
   "metadata": {},
   "source": [
    "## 3. 로또 1등이 될때까지, 과연 내가 돈을 얼마 썼고, 얼마 이득? 손해? 일까요..?\n",
    "- 1등이 몇번, 2등이 몇번, 3등이 몇번, 4등이 몇번, 5등이 몇번 총 얼마 벌었고, 얼마 썼고..\n",
    "- 사전 자료형에 넣어서 계산, 1등 : 몇번, 2등 : 몇번…"
   ]
  },
  {
   "cell_type": "code",
   "execution_count": 10,
   "metadata": {
    "collapsed": true
   },
   "outputs": [
    {
     "name": "stdout",
     "output_type": "stream",
     "text": [
      "0 번째 시도중\n",
      "100000 번째 시도중\n",
      "200000 번째 시도중\n",
      "300000 번째 시도중\n",
      "400000 번째 시도중\n",
      "500000 번째 시도중\n",
      "600000 번째 시도중\n",
      "700000 번째 시도중\n",
      "800000 번째 시도중\n",
      "900000 번째 시도중\n",
      "1000000 번째 시도중\n",
      "1100000 번째 시도중\n",
      "1200000 번째 시도중\n",
      "1300000 번째 시도중\n",
      "1400000 번째 시도중\n",
      "1500000 번째 시도중\n",
      "1600000 번째 시도중\n",
      "1700000 번째 시도중\n",
      "1800000 번째 시도중\n",
      "1900000 번째 시도중\n",
      "2000000 번째 시도중\n",
      "2100000 번째 시도중\n",
      "2200000 번째 시도중\n",
      "2300000 번째 시도중\n",
      "2400000 번째 시도중\n",
      "2500000 번째 시도중\n",
      "2600000 번째 시도중\n",
      "2700000 번째 시도중\n",
      "2800000 번째 시도중\n",
      "2900000 번째 시도중\n",
      "3000000 번째 시도중\n",
      "3100000 번째 시도중\n",
      "3200000 번째 시도중\n",
      "3300000 번째 시도중\n",
      "3400000 번째 시도중\n",
      "3500000 번째 시도중\n",
      "3600000 번째 시도중\n",
      "3700000 번째 시도중\n",
      "3800000 번째 시도중\n",
      "3900000 번째 시도중\n",
      "4000000 번째 시도중\n",
      "4100000 번째 시도중\n",
      "4200000 번째 시도중\n",
      "4300000 번째 시도중\n",
      "4400000 번째 시도중\n",
      "4500000 번째 시도중\n",
      "4600000 번째 시도중\n",
      "4700000 번째 시도중\n",
      "4800000 번째 시도중\n",
      "4900000 번째 시도중\n",
      "5000000 번째 시도중\n",
      "5100000 번째 시도중\n",
      "5200000 번째 시도중\n",
      "5300000 번째 시도중\n",
      "5400000 번째 시도중\n",
      "5500000 번째 시도중\n",
      "5600000 번째 시도중\n",
      "5700000 번째 시도중\n",
      "5800000 번째 시도중\n",
      "5900000 번째 시도중\n",
      "6000000 번째 시도중\n",
      "6100000 번째 시도중\n",
      "6200000 번째 시도중\n",
      "6300000 번째 시도중\n",
      "6400000 번째 시도중\n",
      "6500000 번째 시도중\n",
      "6600000 번째 시도중\n",
      "6700000 번째 시도중\n",
      "6800000 번째 시도중\n",
      "6900000 번째 시도중\n",
      "7000000 번째 시도중\n",
      "7100000 번째 시도중\n",
      "7200000 번째 시도중\n",
      "7300000 번째 시도중\n",
      "7400000 번째 시도중\n",
      "7500000 번째 시도중\n",
      "7600000 번째 시도중\n",
      "7700000 번째 시도중\n",
      "7800000 번째 시도중\n",
      "7900000 번째 시도중\n",
      "8000000 번째 시도중\n",
      "8100000 번째 시도중\n",
      "8200000 번째 시도중\n",
      "8300000 번째 시도중\n",
      "8400000 번째 시도중\n",
      "8500000 번째 시도중\n",
      "8600000 번째 시도중\n",
      "8700000 번째 시도중\n",
      "8800000 번째 시도중\n",
      "8900000 번째 시도중\n",
      "9000000 번째 시도중\n",
      "9100000 번째 시도중\n",
      "9200000 번째 시도중\n",
      "9300000 번째 시도중\n",
      "9400000 번째 시도중\n",
      "9500000 번째 시도중\n",
      "9600000 번째 시도중\n",
      "9700000 번째 시도중\n",
      "9800000 번째 시도중\n",
      "9900000 번째 시도중\n",
      "10000000 번째 시도중\n",
      "10100000 번째 시도중\n",
      "10200000 번째 시도중\n",
      "10300000 번째 시도중\n",
      "10400000 번째 시도중\n",
      "10500000 번째 시도중\n",
      "10600000 번째 시도중\n",
      "10700000 번째 시도중\n",
      "10800000 번째 시도중\n",
      "10900000 번째 시도중\n",
      "11000000 번째 시도중\n",
      "11100000 번째 시도중\n",
      "11200000 번째 시도중\n",
      "11300000 번째 시도중\n",
      "11400000 번째 시도중\n",
      "11500000 번째 시도중\n",
      "11600000 번째 시도중\n",
      "11700000 번째 시도중\n",
      "11800000 번째 시도중\n",
      "11900000 번째 시도중\n",
      "12000000 번째 시도중\n",
      "12100000 번째 시도중\n",
      "12200000 번째 시도중\n",
      "12300000 번째 시도중\n",
      "12400000 번째 시도중\n",
      "12500000 번째 시도중\n",
      "12600000 번째 시도중\n",
      "12700000 번째 시도중\n",
      "12800000 번째 시도중\n",
      "12900000 번째 시도중\n",
      "13000000 번째 시도중\n",
      "13100000 번째 시도중\n",
      "13200000 번째 시도중\n",
      "13300000 번째 시도중\n",
      "13400000 번째 시도중\n",
      "13500000 번째 시도중\n",
      "7981288000\n",
      "{1: 1, 2: 12, 3: 0, 4: 18698, 5: 303223}\n"
     ]
    }
   ],
   "source": [
    "import random\n",
    "trials = 0\n",
    "dangchum = [5,18,20,23,30,34]\n",
    "bonus = 7\n",
    "first = 0\n",
    "second = 0\n",
    "third = 0\n",
    "fourth = 0\n",
    "fifth = 0\n",
    "while True:\n",
    "    create_lotto = random.sample(range(1,46),6)\n",
    "    a = 0\n",
    "    correct = 0\n",
    "    while a <6:\n",
    "        if create_lotto[a] in dangchum:\n",
    "            correct += 1\n",
    "        a +=1\n",
    "    if correct == 6:\n",
    "        first +=1\n",
    "        break\n",
    "    elif correct == 5:\n",
    "        if bonus in create_lotto:\n",
    "            second += 1\n",
    "    if correct == 5:\n",
    "        third += 1\n",
    "    elif correct == 4:\n",
    "        fourth += 1\n",
    "    elif correct == 3:\n",
    "        fifth += 1\n",
    "    if trials % 100000 == 0:\n",
    "        print(trials,'번째 시도중')\n",
    "    trials +=1\n",
    "don = first*100000000+second*100000000+third*10000000+fourth*1000000+fifth*5000\n",
    "ssendon = trials*1000\n",
    "sajun = {1 : first,2 : second, 3 : third, 4 : fourth, 5 : fifth}\n",
    "print(don-ssendon)\n",
    "print(sajun)"
   ]
  },
  {
   "cell_type": "code",
   "execution_count": 11,
   "metadata": {},
   "outputs": [
    {
     "name": "stdout",
     "output_type": "stream",
     "text": [
      "로또는 총  6080692 번 샀습니다.\n",
      "\n",
      "로또를 산 금액은  6080692000 원 입니다.\n",
      "1등 :  1000000000 원\n",
      "2등 :  0 원\n",
      "3등 :  163000000 원\n",
      "4등 :  402350000 원\n",
      "5등 :  680670000 원\n",
      "\n",
      "{1: 1, 2: 0, 3: 163, 4: 8047, 5: 136134}\n",
      "\n",
      "로또 1등 당첨될때까지 계속 사면, 금액은  -3834672000\n"
     ]
    }
   ],
   "source": [
    "import random\n",
    "\n",
    "#로또 번호 생성하기 \n",
    "create_lotto = random.sample(range(1,46),6)\n",
    "\n",
    "#1등 번호\n",
    "dangchum = random.sample(range(1,46),6)\n",
    "while True :\n",
    "    temp = random.sample(range(1,46),1)\n",
    "    if temp not in dangchum:\n",
    "        bonus = temp\n",
    "        break\n",
    "        \n",
    "#사전 자료형\n",
    "dict_lotto = {1:0,2:0,3:0,4:0,5:0}\n",
    "\n",
    "#1등이 될 때까지..\n",
    "try_num = 0\n",
    "while True :\n",
    "    create_lotto = random.sample(range(1,46),6)\n",
    "    try_num +=1\n",
    "    count = 0\n",
    "    for i in create_lotto:\n",
    "        if i in dangchum:\n",
    "            count += 1\n",
    "    if count == 6:\n",
    "        dict_lotto[1] = 1\n",
    "        break\n",
    "    elif count == 5:\n",
    "        if bonus in create_lotto:\n",
    "            dict_lotto[2] +=1\n",
    "        else:\n",
    "            dict_lotto[3] +=1\n",
    "    elif count == 4:\n",
    "        dict_lotto[4] +=1\n",
    "    elif count == 3:\n",
    "        dict_lotto[5] +=1\n",
    "    else:\n",
    "        continue\n",
    "        \n",
    "#총 시도 횟수 \n",
    "print('로또는 총 ',try_num,'번 샀습니다.')\n",
    "print()\n",
    "print('로또를 산 금액은 ',try_num * 1000,'원 입니다.')\n",
    "\n",
    "print('1등 : ', dict_lotto[1]*1000000000,'원')\n",
    "print('2등 : ', dict_lotto[2]*50000000,'원')\n",
    "print('3등 : ', dict_lotto[3]*1000000,'원')\n",
    "print('4등 : ', dict_lotto[4]*50000,'원')\n",
    "print('5등 : ', dict_lotto[5]*5000,'원')\n",
    "\n",
    "print()\n",
    "print(dict_lotto)\n",
    "print()\n",
    "print('로또 1등 당첨될때까지 계속 사면, 금액은 ',(dict_lotto[1]*1000000000)+(dict_lotto[2]*50000000)+(dict_lotto[3]*1000000)+(dict_lotto[4]*50000)+(dict_lotto[5]*5000)-(try_num * 1000))\n",
    "\n",
    "# 함수.. 로또 함수.."
   ]
  },
  {
   "cell_type": "markdown",
   "metadata": {},
   "source": [
    "## 일등 상관 ㄴ\n",
    "## 계속 살 때에, 본전 혹은 흑자가 되기 위해선 몇번 사야 될까요?"
   ]
  },
  {
   "cell_type": "code",
   "execution_count": 5,
   "metadata": {},
   "outputs": [
    {
     "name": "stdout",
     "output_type": "stream",
     "text": [
      "100000 번째 시도중\n",
      "200000 번째 시도중\n",
      "300000 번째 시도중\n",
      "400000 번째 시도중\n",
      "500000 번째 시도중\n",
      "600000 번째 시도중\n",
      "700000 번째 시도중\n",
      "800000 번째 시도중\n",
      "900000 번째 시도중\n",
      "1000000 번째 시도중\n"
     ]
    }
   ],
   "source": [
    "import random\n",
    "trials = 0\n",
    "dangchum = [5,18,20,23,30,34]\n",
    "bonus = 7\n",
    "first = 0\n",
    "second = 0\n",
    "third = 0\n",
    "fourth = 0\n",
    "fifth = 0\n",
    "while True:\n",
    "    create_lotto = random.sample(range(1,46),6)\n",
    "    correct = 0\n",
    "    trials +=1\n",
    "    a = 0\n",
    "    while a <6:\n",
    "        if create_lotto[a] in dangchum:\n",
    "            correct += 1\n",
    "        a +=1\n",
    "    if correct == 6:\n",
    "        first +=1\n",
    "    elif correct == 5:\n",
    "        if bonus in create_lotto:\n",
    "            second += 1\n",
    "    elif correct == 5:\n",
    "        third += 1\n",
    "    elif correct == 4:\n",
    "        fourth += 1\n",
    "    elif correct == 3:\n",
    "        fifth += 1\n",
    "    don = first*1000000000+second*50000000+third*1000000+fourth*50000+fifth*5000\n",
    "    ssendon = trials*1000\n",
    "    if trials % 100000 == 0:\n",
    "        print(trials,'번째 시도중')\n",
    "    if ssendon <= don:\n",
    "        break\n",
    "    if trials >30000000:\n",
    "        print(\"안될듯\")\n",
    "        break"
   ]
  },
  {
   "cell_type": "code",
   "execution_count": 6,
   "metadata": {
    "scrolled": true
   },
   "outputs": [
    {
     "name": "stdout",
     "output_type": "stream",
     "text": [
      "1243665000\n"
     ]
    }
   ],
   "source": [
    "print(don)"
   ]
  },
  {
   "cell_type": "code",
   "execution_count": 7,
   "metadata": {
    "scrolled": true
   },
   "outputs": [
    {
     "name": "stdout",
     "output_type": "stream",
     "text": [
      "1060261000\n"
     ]
    }
   ],
   "source": [
    "print(ssendon)"
   ]
  },
  {
   "cell_type": "code",
   "execution_count": 9,
   "metadata": {},
   "outputs": [
    {
     "name": "stdout",
     "output_type": "stream",
     "text": [
      "1060261\n"
     ]
    }
   ],
   "source": [
    "print(trials)"
   ]
  },
  {
   "cell_type": "code",
   "execution_count": null,
   "metadata": {},
   "outputs": [],
   "source": []
  }
 ],
 "metadata": {
  "kernelspec": {
   "display_name": "Python 3",
   "language": "python",
   "name": "python3"
  },
  "language_info": {
   "codemirror_mode": {
    "name": "ipython",
    "version": 3
   },
   "file_extension": ".py",
   "mimetype": "text/x-python",
   "name": "python",
   "nbconvert_exporter": "python",
   "pygments_lexer": "ipython3",
   "version": "3.7.4"
  }
 },
 "nbformat": 4,
 "nbformat_minor": 2
}
