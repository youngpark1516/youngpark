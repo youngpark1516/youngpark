{
 "cells": [
  {
   "cell_type": "code",
   "execution_count": 1,
   "metadata": {},
   "outputs": [
    {
     "name": "stdout",
     "output_type": "stream",
     "text": [
      "[1, 1, 2, 3, 4, 5, 6, 7, 8, 9]\n"
     ]
    }
   ],
   "source": [
    "t = (1,9,8,7,1,6,5,4,3,2)\n",
    "t = list(t)\n",
    "for r in range(len(t)): #t의 길이만큼 반복\n",
    "    low = r\n",
    "    for i in range(r+1, len(t)): #이미 순서대로 한 마지막 숫자 다음부터 끝까지 반복\n",
    "        if t[low] > t[i]: #뭐가 더 작은지 체크\n",
    "            low = i #만약 i번째가 더 작으면 i를 가장 작은 숫자의 index로 바꾸기\n",
    "    if low != r: #r 과 i가 같을때까지\n",
    "        t[low] , t[r] = t[r], t[low] #작은 숫자와 그 자리에 있는 숫자와 교체\n",
    "print(t)"
   ]
  },
  {
   "cell_type": "code",
   "execution_count": 37,
   "metadata": {},
   "outputs": [
    {
     "name": "stdout",
     "output_type": "stream",
     "text": [
      "[1, 2, 3, 4, 5, 6, 7, 8, 9, 10]\n"
     ]
    }
   ],
   "source": [
    "li = [10,9,8,7,6,5,4,3,2,1]\n",
    "length = len(li) - 1\n",
    "\n",
    "for i in range(length): #li의 길이보다 1번 적게 반복\n",
    "    for j in range(length-0): #li의 길이보다 1번 적게 반복\n",
    "        if li[j] > li[j+1]: #만약 j번째 숫자가 다음 숫자보다 크면\n",
    "            li[j], li[j+1] = li[j+1], li[j] #교체\n",
    "print(li)"
   ]
  },
  {
   "cell_type": "code",
   "execution_count": null,
   "metadata": {},
   "outputs": [],
   "source": []
  }
 ],
 "metadata": {
  "kernelspec": {
   "display_name": "Python 3",
   "language": "python",
   "name": "python3"
  },
  "language_info": {
   "codemirror_mode": {
    "name": "ipython",
    "version": 3
   },
   "file_extension": ".py",
   "mimetype": "text/x-python",
   "name": "python",
   "nbconvert_exporter": "python",
   "pygments_lexer": "ipython3",
   "version": "3.7.4"
  }
 },
 "nbformat": 4,
 "nbformat_minor": 2
}
