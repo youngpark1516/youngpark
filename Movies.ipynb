{
 "cells": [
  {
   "cell_type": "code",
   "execution_count": 9,
   "metadata": {},
   "outputs": [],
   "source": [
    "f = open(\"movie.txt\",\"r\",encoding=\"utf8\")"
   ]
  },
  {
   "cell_type": "code",
   "execution_count": 10,
   "metadata": {},
   "outputs": [],
   "source": [
    "result = f.read()"
   ]
  },
  {
   "cell_type": "code",
   "execution_count": 11,
   "metadata": {},
   "outputs": [
    {
     "name": "stdout",
     "output_type": "stream",
     "text": [
      "<class 'str'>\n"
     ]
    }
   ],
   "source": [
    "print(type(result))"
   ]
  },
  {
   "cell_type": "code",
   "execution_count": 22,
   "metadata": {},
   "outputs": [],
   "source": [
    "f.close()"
   ]
  },
  {
   "cell_type": "code",
   "execution_count": 23,
   "metadata": {},
   "outputs": [
    {
     "data": {
      "text/plain": [
       "'\\n'"
      ]
     },
     "execution_count": 23,
     "metadata": {},
     "output_type": "execute_result"
    }
   ],
   "source": [
    "\"\\n\""
   ]
  },
  {
   "cell_type": "code",
   "execution_count": 18,
   "metadata": {},
   "outputs": [
    {
     "name": "stdout",
     "output_type": "stream",
     "text": [
      "hi\n"
     ]
    }
   ],
   "source": [
    "if \"\\n\" in result:\n",
    "    print(\"hi\")"
   ]
  },
  {
   "cell_type": "code",
   "execution_count": 19,
   "metadata": {},
   "outputs": [
    {
     "ename": "SyntaxError",
     "evalue": "unexpected EOF while parsing (<ipython-input-19-2f62d4ae0fcf>, line 2)",
     "output_type": "error",
     "traceback": [
      "\u001b[1;36m  File \u001b[1;32m\"<ipython-input-19-2f62d4ae0fcf>\"\u001b[1;36m, line \u001b[1;32m2\u001b[0m\n\u001b[1;33m    \u001b[0m\n\u001b[1;37m    ^\u001b[0m\n\u001b[1;31mSyntaxError\u001b[0m\u001b[1;31m:\u001b[0m unexpected EOF while parsing\n"
     ]
    }
   ],
   "source": [
    "for i in range(result.count(\"\\n\")+1):\n",
    "    "
   ]
  },
  {
   "cell_type": "code",
   "execution_count": 25,
   "metadata": {},
   "outputs": [
    {
     "name": "stdout",
     "output_type": "stream",
     "text": [
      "10681\n"
     ]
    }
   ],
   "source": [
    "print((result.count(\"\\n\")+1))"
   ]
  },
  {
   "cell_type": "code",
   "execution_count": 61,
   "metadata": {},
   "outputs": [
    {
     "name": "stdout",
     "output_type": "stream",
     "text": [
      "1066\n"
     ]
    }
   ],
   "source": [
    "print((result.count(\"Adventure\")))"
   ]
  },
  {
   "cell_type": "code",
   "execution_count": 26,
   "metadata": {},
   "outputs": [
    {
     "name": "stdout",
     "output_type": "stream",
     "text": [
      "['h', 'lloh', 'llo']\n"
     ]
    }
   ],
   "source": [
    "s = \"hellohello\"\n",
    "s = s.split(\"e\")\n",
    "print(s)"
   ]
  },
  {
   "cell_type": "code",
   "execution_count": 63,
   "metadata": {},
   "outputs": [
    {
     "name": "stdout",
     "output_type": "stream",
     "text": [
      "10681\n",
      "[1025, 286, 528, 3703, 543, 1685, 5339, 1473, 1118, 1706, 1013, 509, 754, 29, 482, 511, 436, 148, 275, 1]\n",
      "['Adventure', 'Animation', 'Children', 'Comedy', 'Fantasy', 'Romance', 'Drama', 'Action', 'Crime', 'Thriller', 'Horror', 'Mystery', 'Sci-Fi', 'IMAX', 'Documentary', 'War', 'Musical', 'Film-Noir', 'Western', '(no genres listed)']\n"
     ]
    }
   ],
   "source": [
    "splitted = result.split(\"\\n\")\n",
    "genres = []\n",
    "count = []\n",
    "test = 0\n",
    "for i in splitted:\n",
    "    temp = i.split(\"::\")[2]\n",
    "    temp_g = temp.split(\"|\")\n",
    "    for j in temp_g:\n",
    "        if j in genres:\n",
    "            temp_index = genres.index(j)\n",
    "            count[temp_index] = count[temp_index]+1\n",
    "        else:\n",
    "            genres.append(j)\n",
    "            count.append(1)"
   ]
  },
  {
   "cell_type": "code",
   "execution_count": 109,
   "metadata": {},
   "outputs": [
    {
     "name": "stdout",
     "output_type": "stream",
     "text": [
      "['Children', 'Action', 'Comedy', 'Musical', 'Western', 'Thriller', 'IMAX', 'Horror', 'Romance', 'Film-Noir', 'Drama', 'Animation', 'Mystery', 'Fantasy', '(no genres listed)', 'Sci-Fi', 'Crime', 'Adventure', 'War', 'Documentary']\n",
      "[['Children', 0], ['Action', 0], ['Comedy', 0], ['Musical', 0], ['Western', 0], ['Thriller', 0], ['IMAX', 0], ['Horror', 0], ['Romance', 0], ['Film-Noir', 0], ['Drama', 0], ['Animation', 0], ['Mystery', 0], ['Fantasy', 0], ['(no genres listed)', 0], ['Sci-Fi', 0], ['Crime', 0], ['Adventure', 0], ['War', 0], ['Documentary', 0]]\n",
      "[['Children', 528], ['Action', 1473], ['Comedy', 3703], ['Musical', 436], ['Western', 275], ['Thriller', 1706], ['IMAX', 29], ['Horror', 1013], ['Romance', 1685], ['Film-Noir', 148], ['Drama', 5339], ['Animation', 286], ['Mystery', 509], ['Fantasy', 543], ['(no genres listed)', 1], ['Sci-Fi', 754], ['Crime', 1118], ['Adventure', 1025], ['War', 511], ['Documentary', 482]]\n",
      "\n",
      "\n",
      "[['(no genres listed)', 1], ['IMAX', 29], ['Film-Noir', 148], ['Western', 275], ['Animation', 286], ['Musical', 436], ['Documentary', 482], ['Mystery', 509], ['War', 511], ['Children', 528], ['Fantasy', 543], ['Sci-Fi', 754], ['Horror', 1013], ['Adventure', 1025], ['Crime', 1118], ['Action', 1473], ['Romance', 1685], ['Thriller', 1706], ['Comedy', 3703], ['Drama', 5339]]\n"
     ]
    }
   ],
   "source": [
    "splitted1 = result.split(\"\\n\")\n",
    "genres1 = []\n",
    "count1 = []\n",
    "for i in splitted1:\n",
    "    temp1 = i.split(\"::\")[2]\n",
    "    temp_g1 = temp1.split(\"|\")\n",
    "    genres1 += temp_g1\n",
    "unique_g = set(genres1)\n",
    "unique_g = list(unique_g)\n",
    "print(unique_g)\n",
    "x = []\n",
    "for i in unique_g:\n",
    "    x.append([i,0])\n",
    "print(x)\n",
    "for i in range(len(x)):\n",
    "    for k in genres1:\n",
    "        if k == x[i][0]:\n",
    "            x[i][1]+= 1\n",
    "print(x)\n",
    "x.sort(key=lambda x : x[1])\n",
    "print()\n",
    "print(x)"
   ]
  },
  {
   "cell_type": "code",
   "execution_count": 110,
   "metadata": {},
   "outputs": [],
   "source": [
    "c = []\n",
    "for i in x:\n",
    "    c.append(i[1])"
   ]
  },
  {
   "cell_type": "code",
   "execution_count": 111,
   "metadata": {},
   "outputs": [
    {
     "name": "stdout",
     "output_type": "stream",
     "text": [
      "[1, 29, 148, 275, 286, 436, 482, 509, 511, 528, 543, 754, 1013, 1025, 1118, 1473, 1685, 1706, 3703, 5339]\n"
     ]
    }
   ],
   "source": [
    "print(c)"
   ]
  },
  {
   "cell_type": "code",
   "execution_count": 112,
   "metadata": {},
   "outputs": [
    {
     "data": {
      "image/png": "[encoded data removed]",
      "text/plain": [
       "<Figure size 432x288 with 1 Axes>"
      ]
     },
     "metadata": {
      "needs_background": "light"
     },
     "output_type": "display_data"
    }
   ],
   "source": [
    "import matplotlib.pyplot as plt\n",
    "%matplotlib inline\n",
    "figure = plt.figure()\n",
    "axes = figure.add_subplot()\n",
    "for i,j in x:\n",
    "    axes.barh(i,j)\n",
    "plt.show()"
   ]
  },
  {
   "cell_type": "code",
   "execution_count": null,
   "metadata": {},
   "outputs": [],
   "source": []
  }
 ],
 "metadata": {
  "kernelspec": {
   "display_name": "Python 3",
   "language": "python",
   "name": "python3"
  },
  "language_info": {
   "codemirror_mode": {
    "name": "ipython",
    "version": 3
   },
   "file_extension": ".py",
   "mimetype": "text/x-python",
   "name": "python",
   "nbconvert_exporter": "python",
   "pygments_lexer": "ipython3",
   "version": "3.7.4"
  }
 },
 "nbformat": 4,
 "nbformat_minor": 2
}
