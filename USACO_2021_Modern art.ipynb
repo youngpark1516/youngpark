{
 "cells": [
  {
   "cell_type": "code",
   "execution_count": 64,
   "metadata": {
    "scrolled": false
   },
   "outputs": [
    {
     "name": "stdout",
     "output_type": "stream",
     "text": [
      "4\n",
      "1 6 1 6\n",
      "['1', '1', '1', '0']\n",
      "['1', '6', '6', '6']\n",
      "['1', '1', '1', '1']\n"
     ]
    }
   ],
   "source": [
    "N = int(input())\n",
    "p = input()\n",
    "p = p.split(\" \")\n",
    "def sl(li, s, f, con):\n",
    "    for i in range (s,f):\n",
    "        li[i] = con\n",
    "    return li\n",
    "def findsf(li, ob, x = 0, y = 0):\n",
    "    if y == 0:\n",
    "        y = len(li)\n",
    "    temp = li[x:y]\n",
    "    try:\n",
    "        s = temp.index(ob)\n",
    "        temp.reverse()\n",
    "        f = len(temp) - temp.index(ob)-1\n",
    "        temp.reverse()\n",
    "    except:\n",
    "        x = 0\n",
    "        y = len(li)\n",
    "        s = li.index(ob)\n",
    "        li.reverse()\n",
    "        f = len(li) - li.index(ob)-1\n",
    "        li.reverse()\n",
    "    return s,f\n",
    "new = []\n",
    "for i in range(N):\n",
    "    new.append(\"0\")\n",
    "additional = []\n",
    "for i in range(N):\n",
    "    if i%2 == 0:\n",
    "        additional.append(p[int(i/2)])\n",
    "    else:\n",
    "        additional.append(p[N-int(i/2)-1])\n",
    "done = []\n",
    "for i in range(N):\n",
    "    s,f = findsf(p, (additional[i]))\n",
    "    if i%2 == 0:\n",
    "        x = int(i/2)\n",
    "    else:\n",
    "        x = N-int(i/2)-1\n",
    "    if not new[x] == additional[i]:\n",
    "        if additional[i] in done:\n",
    "            temp = s\n",
    "            temp2 = f\n",
    "            s,f = findsf(p, (additional[i]), temp+1, temp2)\n",
    "            s += temp+1\n",
    "            f += temp+1\n",
    "            new = sl(new,s,f+1, additional[i])\n",
    "        else:\n",
    "            new = sl(new,s,f+1, additional[i])\n",
    "            done.append(additional[i])\n",
    "        print(new)\n",
    "        \n",
    "#         if i%2 == 0:\n",
    "    #         new = sl(new,int(i/2),N-int((i+1)/2), additional[i])\n",
    "#             new = sl(new,s,f+1, additional[i])\n",
    "#         else:\n",
    "    #         new = sl(new,int((i+1)/2),N-int(i/2), additional[i])\n",
    "    "
   ]
  },
  {
   "cell_type": "code",
   "execution_count": 96,
   "metadata": {},
   "outputs": [
    {
     "name": "stdout",
     "output_type": "stream",
     "text": [
      "10\n",
      "1 2 3 4 1 4 3 2 1 6\n",
      "hi\n",
      "['1', '1', '1', '1', '1', '1', '1', '1', '1', '1']\n",
      "hi\n",
      "['1', '2', '2', '2', '2', '2', '2', '2', '2', '2']\n",
      "hi\n",
      "['1', '2', '3', '3', '3', '3', '3', '3', '3', '3']\n",
      "hi\n",
      "['1', '2', '3', '4', '4', '4', '4', '4', '4', '4']\n",
      "hi\n",
      "hi\n",
      "8\n",
      "8\n",
      "['1', '2', '3', '4', '1', '1', '1', '1', '1', '4']\n",
      "hi\n",
      "5\n",
      "5\n",
      "['1', '2', '3', '4', '1', '4', '1', '1', '1', '4']\n",
      "hi\n",
      "6\n",
      "6\n",
      "['1', '2', '3', '4', '1', '4', '3', '1', '1', '4']\n",
      "hi\n",
      "7\n",
      "7\n",
      "['1', '2', '3', '4', '1', '4', '3', '2', '1', '4']\n",
      "hi\n",
      "hi\n"
     ]
    },
    {
     "ename": "IndexError",
     "evalue": "list assignment index out of range",
     "output_type": "error",
     "traceback": [
      "\u001b[1;31m---------------------------------------------------------------------------\u001b[0m",
      "\u001b[1;31mIndexError\u001b[0m                                Traceback (most recent call last)",
      "\u001b[1;32m<ipython-input-96-b7c5f0234cf9>\u001b[0m in \u001b[0;36m<module>\u001b[1;34m\u001b[0m\n\u001b[0;32m     43\u001b[0m             \u001b[0mnew\u001b[0m \u001b[1;33m=\u001b[0m \u001b[0msl\u001b[0m\u001b[1;33m(\u001b[0m\u001b[0mnew\u001b[0m\u001b[1;33m,\u001b[0m\u001b[0mi\u001b[0m\u001b[1;33m,\u001b[0m\u001b[0mf\u001b[0m\u001b[1;33m+\u001b[0m\u001b[1;36m1\u001b[0m\u001b[1;33m,\u001b[0m \u001b[0mp\u001b[0m\u001b[1;33m[\u001b[0m\u001b[0mi\u001b[0m\u001b[1;33m]\u001b[0m\u001b[1;33m)\u001b[0m\u001b[1;33m\u001b[0m\u001b[1;33m\u001b[0m\u001b[0m\n\u001b[0;32m     44\u001b[0m         \u001b[1;32melse\u001b[0m\u001b[1;33m:\u001b[0m\u001b[1;33m\u001b[0m\u001b[1;33m\u001b[0m\u001b[0m\n\u001b[1;32m---> 45\u001b[1;33m             \u001b[0mnew\u001b[0m \u001b[1;33m=\u001b[0m \u001b[0msl\u001b[0m\u001b[1;33m(\u001b[0m\u001b[0mnew\u001b[0m\u001b[1;33m,\u001b[0m\u001b[0mi\u001b[0m\u001b[1;33m,\u001b[0m\u001b[0mf\u001b[0m\u001b[1;33m+\u001b[0m\u001b[1;36m1\u001b[0m\u001b[1;33m,\u001b[0m \u001b[0mp\u001b[0m\u001b[1;33m[\u001b[0m\u001b[0mi\u001b[0m\u001b[1;33m]\u001b[0m\u001b[1;33m)\u001b[0m\u001b[1;33m\u001b[0m\u001b[1;33m\u001b[0m\u001b[0m\n\u001b[0m\u001b[0;32m     46\u001b[0m             \u001b[0mdone\u001b[0m\u001b[1;33m.\u001b[0m\u001b[0mappend\u001b[0m\u001b[1;33m(\u001b[0m\u001b[0mp\u001b[0m\u001b[1;33m[\u001b[0m\u001b[0mi\u001b[0m\u001b[1;33m]\u001b[0m\u001b[1;33m)\u001b[0m\u001b[1;33m\u001b[0m\u001b[1;33m\u001b[0m\u001b[0m\n\u001b[0;32m     47\u001b[0m         \u001b[0mprint\u001b[0m\u001b[1;33m(\u001b[0m\u001b[0mnew\u001b[0m\u001b[1;33m)\u001b[0m\u001b[1;33m\u001b[0m\u001b[1;33m\u001b[0m\u001b[0m\n",
      "\u001b[1;32m<ipython-input-96-b7c5f0234cf9>\u001b[0m in \u001b[0;36msl\u001b[1;34m(li, s, f, con)\u001b[0m\n\u001b[0;32m      4\u001b[0m \u001b[1;32mdef\u001b[0m \u001b[0msl\u001b[0m\u001b[1;33m(\u001b[0m\u001b[0mli\u001b[0m\u001b[1;33m,\u001b[0m \u001b[0ms\u001b[0m\u001b[1;33m,\u001b[0m \u001b[0mf\u001b[0m\u001b[1;33m,\u001b[0m \u001b[0mcon\u001b[0m\u001b[1;33m)\u001b[0m\u001b[1;33m:\u001b[0m\u001b[1;33m\u001b[0m\u001b[1;33m\u001b[0m\u001b[0m\n\u001b[0;32m      5\u001b[0m     \u001b[1;32mfor\u001b[0m \u001b[0mi\u001b[0m \u001b[1;32min\u001b[0m \u001b[0mrange\u001b[0m \u001b[1;33m(\u001b[0m\u001b[0ms\u001b[0m\u001b[1;33m,\u001b[0m\u001b[0mf\u001b[0m\u001b[1;33m)\u001b[0m\u001b[1;33m:\u001b[0m\u001b[1;33m\u001b[0m\u001b[1;33m\u001b[0m\u001b[0m\n\u001b[1;32m----> 6\u001b[1;33m         \u001b[0mli\u001b[0m\u001b[1;33m[\u001b[0m\u001b[0mi\u001b[0m\u001b[1;33m]\u001b[0m \u001b[1;33m=\u001b[0m \u001b[0mcon\u001b[0m\u001b[1;33m\u001b[0m\u001b[1;33m\u001b[0m\u001b[0m\n\u001b[0m\u001b[0;32m      7\u001b[0m     \u001b[1;32mreturn\u001b[0m \u001b[0mli\u001b[0m\u001b[1;33m\u001b[0m\u001b[1;33m\u001b[0m\u001b[0m\n\u001b[0;32m      8\u001b[0m \u001b[1;32mdef\u001b[0m \u001b[0mfindsf\u001b[0m\u001b[1;33m(\u001b[0m\u001b[0mli\u001b[0m\u001b[1;33m,\u001b[0m \u001b[0mob\u001b[0m\u001b[1;33m,\u001b[0m \u001b[0mx\u001b[0m \u001b[1;33m=\u001b[0m \u001b[1;36m0\u001b[0m\u001b[1;33m,\u001b[0m \u001b[0my\u001b[0m \u001b[1;33m=\u001b[0m \u001b[1;36m0\u001b[0m\u001b[1;33m)\u001b[0m\u001b[1;33m:\u001b[0m\u001b[1;33m\u001b[0m\u001b[1;33m\u001b[0m\u001b[0m\n",
      "\u001b[1;31mIndexError\u001b[0m: list assignment index out of range"
     ]
    }
   ],
   "source": [
    "N = int(input())\n",
    "p = input()\n",
    "p = p.split(\" \")\n",
    "def sl(li, s, f, con):\n",
    "    for i in range (s,f):\n",
    "        li[i] = con\n",
    "    return li\n",
    "def findsf(li, ob, x = 0, y = 0):\n",
    "    if y == 0:\n",
    "        y = len(li)\n",
    "    temp = li[x:y]\n",
    "    try:\n",
    "        s = temp.index(ob)\n",
    "        temp.reverse()\n",
    "        f = len(temp) - temp.index(ob)-1\n",
    "        temp.reverse()\n",
    "        print('hi')\n",
    "    except:\n",
    "        tempo = x\n",
    "        x = 0\n",
    "        y = len(li)\n",
    "        s = li.index(ob)\n",
    "        li.reverse()\n",
    "        f = len(li) - li.index(ob)-1 - tempo\n",
    "        li.reverse()\n",
    "    return s,f\n",
    "new = []\n",
    "for i in range(N):\n",
    "    new.append(\"0\")\n",
    "done = []\n",
    "for i in range(N):\n",
    "    s,f = findsf(p, (p[i]))\n",
    "    if not new[i] == p[i]:\n",
    "        if p[i] in done:\n",
    "            temp = i\n",
    "            temp2 = f\n",
    "            s,f = findsf(p, (p[i]), temp+1, temp2)\n",
    "            s = i\n",
    "            f += i + 1\n",
    "            new = sl(new,i,f+1, p[i])\n",
    "        else:\n",
    "            new = sl(new,i,f+1, p[i])\n",
    "            done.append(p[i])\n",
    "        print(new)\n",
    "        \n",
    "#         if i%2 == 0:\n",
    "    #         new = sl(new,int(i/2),N-int((i+1)/2), additional[i])\n",
    "#             new = sl(new,s,f+1, additional[i])\n",
    "#         else:\n",
    "    #         new = sl(new,int((i+1)/2),N-int(i/2), additional[i])\n",
    "    "
   ]
  },
  {
   "cell_type": "code",
   "execution_count": 8,
   "metadata": {},
   "outputs": [],
   "source": [
    "def sl(li, s, f, con):\n",
    "    for i in range (s,f):\n",
    "        li[i] = con\n",
    "    return li\n"
   ]
  },
  {
   "cell_type": "code",
   "execution_count": 11,
   "metadata": {},
   "outputs": [
    {
     "name": "stdout",
     "output_type": "stream",
     "text": [
      "[1, 2, 4, 4, 5, 6]\n"
     ]
    }
   ],
   "source": [
    "l = [1,2,3,4,5,6]\n",
    "l = sl(l,2,4,4)\n",
    "print(l)"
   ]
  },
  {
   "cell_type": "code",
   "execution_count": 29,
   "metadata": {},
   "outputs": [
    {
     "name": "stdout",
     "output_type": "stream",
     "text": [
      "0 13\n"
     ]
    }
   ],
   "source": [
    "l = [1,2,3,4,5,6,7,8,9,6,4,3,2,1]\n",
    "s = l.index(1)\n",
    "l.reverse()\n",
    "f = len(l) - l.index(1) -1\n",
    "l.reverse()\n",
    "print(s,len(l)-f-1)"
   ]
  },
  {
   "cell_type": "code",
   "execution_count": 54,
   "metadata": {},
   "outputs": [],
   "source": [
    "def findsf(li, ob, x = 0, y = 0):\n",
    "    if y == 0:\n",
    "        y = len(li)\n",
    "    li = li[x:y]\n",
    "    s = li.index(ob)\n",
    "    li.reverse()\n",
    "    f = len(li) - li.index(ob)-1\n",
    "    li.reverse()\n",
    "    return s,f"
   ]
  },
  {
   "cell_type": "code",
   "execution_count": 55,
   "metadata": {},
   "outputs": [
    {
     "ename": "ValueError",
     "evalue": "3 is not in list",
     "output_type": "error",
     "traceback": [
      "\u001b[1;31m---------------------------------------------------------------------------\u001b[0m",
      "\u001b[1;31mValueError\u001b[0m                                Traceback (most recent call last)",
      "\u001b[1;32m<ipython-input-55-36873abe3481>\u001b[0m in \u001b[0;36m<module>\u001b[1;34m\u001b[0m\n\u001b[0;32m      1\u001b[0m \u001b[0ml\u001b[0m \u001b[1;33m=\u001b[0m \u001b[1;33m[\u001b[0m\u001b[1;36m1\u001b[0m\u001b[1;33m,\u001b[0m\u001b[1;36m2\u001b[0m\u001b[1;33m,\u001b[0m\u001b[1;36m3\u001b[0m\u001b[1;33m,\u001b[0m\u001b[1;36m4\u001b[0m\u001b[1;33m,\u001b[0m\u001b[1;36m5\u001b[0m\u001b[1;33m,\u001b[0m\u001b[1;36m6\u001b[0m\u001b[1;33m,\u001b[0m\u001b[1;36m7\u001b[0m\u001b[1;33m,\u001b[0m\u001b[1;36m8\u001b[0m\u001b[1;33m,\u001b[0m\u001b[1;36m9\u001b[0m\u001b[1;33m,\u001b[0m\u001b[1;36m6\u001b[0m\u001b[1;33m,\u001b[0m\u001b[1;36m4\u001b[0m\u001b[1;33m,\u001b[0m\u001b[1;36m3\u001b[0m\u001b[1;33m,\u001b[0m\u001b[1;36m2\u001b[0m\u001b[1;33m,\u001b[0m\u001b[1;36m1\u001b[0m\u001b[1;33m]\u001b[0m\u001b[1;33m\u001b[0m\u001b[1;33m\u001b[0m\u001b[0m\n\u001b[1;32m----> 2\u001b[1;33m \u001b[0ms\u001b[0m\u001b[1;33m,\u001b[0m\u001b[0mf\u001b[0m \u001b[1;33m=\u001b[0m \u001b[0mfindsf\u001b[0m\u001b[1;33m(\u001b[0m\u001b[0ml\u001b[0m\u001b[1;33m,\u001b[0m\u001b[1;36m3\u001b[0m\u001b[1;33m,\u001b[0m\u001b[1;36m3\u001b[0m\u001b[1;33m,\u001b[0m\u001b[1;36m7\u001b[0m\u001b[1;33m)\u001b[0m\u001b[1;33m\u001b[0m\u001b[1;33m\u001b[0m\u001b[0m\n\u001b[0m\u001b[0;32m      3\u001b[0m \u001b[0mprint\u001b[0m\u001b[1;33m(\u001b[0m\u001b[0ms\u001b[0m\u001b[1;33m,\u001b[0m\u001b[0mf\u001b[0m\u001b[1;33m)\u001b[0m\u001b[1;33m\u001b[0m\u001b[1;33m\u001b[0m\u001b[0m\n",
      "\u001b[1;32m<ipython-input-54-272460582acb>\u001b[0m in \u001b[0;36mfindsf\u001b[1;34m(li, ob, x, y)\u001b[0m\n\u001b[0;32m      3\u001b[0m         \u001b[0my\u001b[0m \u001b[1;33m=\u001b[0m \u001b[0mlen\u001b[0m\u001b[1;33m(\u001b[0m\u001b[0mli\u001b[0m\u001b[1;33m)\u001b[0m\u001b[1;33m\u001b[0m\u001b[1;33m\u001b[0m\u001b[0m\n\u001b[0;32m      4\u001b[0m     \u001b[0mli\u001b[0m \u001b[1;33m=\u001b[0m \u001b[0mli\u001b[0m\u001b[1;33m[\u001b[0m\u001b[0mx\u001b[0m\u001b[1;33m:\u001b[0m\u001b[0my\u001b[0m\u001b[1;33m]\u001b[0m\u001b[1;33m\u001b[0m\u001b[1;33m\u001b[0m\u001b[0m\n\u001b[1;32m----> 5\u001b[1;33m     \u001b[0ms\u001b[0m \u001b[1;33m=\u001b[0m \u001b[0mli\u001b[0m\u001b[1;33m.\u001b[0m\u001b[0mindex\u001b[0m\u001b[1;33m(\u001b[0m\u001b[0mob\u001b[0m\u001b[1;33m)\u001b[0m\u001b[1;33m\u001b[0m\u001b[1;33m\u001b[0m\u001b[0m\n\u001b[0m\u001b[0;32m      6\u001b[0m     \u001b[0mli\u001b[0m\u001b[1;33m.\u001b[0m\u001b[0mreverse\u001b[0m\u001b[1;33m(\u001b[0m\u001b[1;33m)\u001b[0m\u001b[1;33m\u001b[0m\u001b[1;33m\u001b[0m\u001b[0m\n\u001b[0;32m      7\u001b[0m     \u001b[0mf\u001b[0m \u001b[1;33m=\u001b[0m \u001b[0mlen\u001b[0m\u001b[1;33m(\u001b[0m\u001b[0mli\u001b[0m\u001b[1;33m)\u001b[0m \u001b[1;33m-\u001b[0m \u001b[0mli\u001b[0m\u001b[1;33m.\u001b[0m\u001b[0mindex\u001b[0m\u001b[1;33m(\u001b[0m\u001b[0mob\u001b[0m\u001b[1;33m)\u001b[0m\u001b[1;33m-\u001b[0m\u001b[1;36m1\u001b[0m\u001b[1;33m\u001b[0m\u001b[1;33m\u001b[0m\u001b[0m\n",
      "\u001b[1;31mValueError\u001b[0m: 3 is not in list"
     ]
    }
   ],
   "source": [
    "l = [1,2,3,4,5,6,7,8,9,6,4,3,2,1]\n",
    "s,f = findsf(l,3,3,7)\n",
    "print(s,f)"
   ]
  },
  {
   "cell_type": "code",
   "execution_count": 56,
   "metadata": {},
   "outputs": [
    {
     "name": "stdout",
     "output_type": "stream",
     "text": [
      "[0, 2, 4, 6, 8, 9, 7, 5, 3, 1]\n"
     ]
    }
   ],
   "source": [
    "new = [0,0,0,0,0,0,0,0,0,0]\n",
    "for i in range(10):\n",
    "    if i%2 == 0:\n",
    "        new[int(i/2)] = i\n",
    "    else:\n",
    "        new[10-int(i/2)-1] = i\n",
    "print(new)"
   ]
  },
  {
   "cell_type": "code",
   "execution_count": 8,
   "metadata": {},
   "outputs": [
    {
     "name": "stdout",
     "output_type": "stream",
     "text": [
      "10\n",
      "1 2 3 4 1 4 3 2 1 6\n",
      "['0', '0', '0', '0', '0', '0', '0', '0', '0', '0']\n",
      "['1', '1', '1', '1', '1', '1', '1', '1', '1', '0']\n",
      "['1', '2', '2', '2', '2', '2', '2', '2', '1', '0']\n",
      "['1', '2', '3', '3', '3', '3', '3', '2', '1', '0']\n",
      "['1', '2', '3', '4', '4', '4', '3', '2', '1', '0']\n",
      "['1', '2', '3', '4', '1', '4', '3', '2', '1', '0']\n",
      "good\n",
      "['1', '2', '3', '4', '1', '4', '3', '2', '1', '6']\n"
     ]
    }
   ],
   "source": [
    "total_num = int(input())\n",
    "ques = input()\n",
    "ques_str = ques.replace(' ','')\n",
    "ques = ques.split(\" \")\n",
    "\n",
    "new = []\n",
    "cnt = 0\n",
    "for i in range(total_num):\n",
    "    new.append(\"0\")\n",
    "last_idx = len(ques)\n",
    "tmp_idx=0\n",
    "while cnt < len(ques):    \n",
    "    print(new)\n",
    "    \n",
    "    # 왼쪽서부터 바꿀거 찾기\n",
    "    for i in range(len(ques)):\n",
    "        if ques[i] != new[i]:\n",
    "            tmp_idx = i\n",
    "            break\n",
    "\n",
    "    # 어디까지 바꿀지 찾기\n",
    "    if last_idx > ques_str.rindex(ques[tmp_idx]):  \n",
    "        last_idx = ques_str.rindex(ques[tmp_idx])\n",
    "    else:\n",
    "        for i in range(ques_str.rindex(ques[tmp_idx]),last_idx-2,-1):\n",
    "#             print(i)\n",
    "#             print(tmp_idx)\n",
    "#             print(ques)\n",
    "#             print(new)\n",
    "#             print(ques[i])\n",
    "#             print(new[i])\n",
    "#             print()\n",
    "            if ques[i] != new[i]:\n",
    "#                 print('no')\n",
    "                last_idx = i\n",
    "                break\n",
    "#     print(ques_str.rindex(ques[tmp_idx]), last_idx)\n",
    "    for i in range(tmp_idx,len(ques)):\n",
    "#         if new[i] != ques[i]:\n",
    "        new[i] = ques[tmp_idx]\n",
    "        if i == last_idx:\n",
    "            break     \n",
    "    \n",
    "    cnt +=1\n",
    "    if new == ques:\n",
    "        print('good')\n",
    "        break\n",
    "print(new)"
   ]
  },
  {
   "cell_type": "code",
   "execution_count": null,
   "metadata": {},
   "outputs": [],
   "source": []
  }
 ],
 "metadata": {
  "kernelspec": {
   "display_name": "Python 3",
   "language": "python",
   "name": "python3"
  },
  "language_info": {
   "codemirror_mode": {
    "name": "ipython",
    "version": 3
   },
   "file_extension": ".py",
   "mimetype": "text/x-python",
   "name": "python",
   "nbconvert_exporter": "python",
   "pygments_lexer": "ipython3",
   "version": "3.7.4"
  }
 },
 "nbformat": 4,
 "nbformat_minor": 2
}
