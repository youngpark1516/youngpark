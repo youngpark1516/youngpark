{
 "cells": [
  {
   "cell_type": "code",
   "execution_count": 10,
   "metadata": {},
   "outputs": [
    {
     "name": "stdout",
     "output_type": "stream",
     "text": [
      "8\n",
      "0 1\n",
      "result 0\n",
      "1 0\n",
      "result 0\n",
      "1 1\n",
      "result 0\n",
      "1 2\n",
      "result 1\n",
      "2 1\n",
      "result 0\n",
      "2 2\n",
      "result 0\n",
      "3 1\n",
      "result 1\n",
      "3 2\n",
      "result 2\n"
     ]
    }
   ],
   "source": [
    "#bronze\n",
    "tot = input()\n",
    "coor = []\n",
    "previous = 0\n",
    "for i in range(int(tot)):\n",
    "    a = input().split(' ')\n",
    "    a = [int(a[0]),int(a[1])]\n",
    "    coor.append(a)\n",
    "    out = 0\n",
    "    for temp in coor:\n",
    "        x = temp[0]\n",
    "        y = temp[1]\n",
    "        count = 0\n",
    "        try:\n",
    "            coor.index([x,y-1])\n",
    "            count += 1\n",
    "        except:\n",
    "            pass\n",
    "        try:\n",
    "            coor.index([x-1,y])\n",
    "            count += 1\n",
    "        except:\n",
    "            pass\n",
    "        try:\n",
    "            coor.index([x+1,y])\n",
    "            count += 1\n",
    "        except:\n",
    "            pass\n",
    "        try:\n",
    "            coor.index([x,y+1])\n",
    "            count += 1\n",
    "        except:\n",
    "            pass\n",
    "        if count == 3:\n",
    "            out += 1\n",
    "    print('result', out)"
   ]
  },
  {
   "cell_type": "code",
   "execution_count": 1,
   "metadata": {
    "scrolled": false
   },
   "outputs": [
    {
     "name": "stdout",
     "output_type": "stream",
     "text": [
      "9\n",
      "0 1\n",
      "result 0 []\n",
      "0\n",
      "1 0\n",
      "result 0 []\n",
      "0\n",
      "1 1\n",
      "result 0 []\n",
      "0\n",
      "1 2\n",
      "result 1 [[1, 1]]\n",
      "1 [[2, 1]]\n",
      "\n",
      "0\n",
      "2 1\n",
      "result 0 []\n",
      "0\n",
      "2 2\n",
      "result 0 []\n",
      "0\n",
      "3 1\n",
      "result 1 [[2, 1]]\n",
      "1 [[2, 0]]\n",
      "\n",
      "0\n",
      "3 2\n",
      "result 2 [[2, 1], [2, 2]]\n",
      "2 [[2, 0], [2, 3]]\n",
      "\n",
      "0\n",
      "4 1\n",
      "result 3 [[2, 1], [2, 2], [3, 1]]\n",
      "3 [[2, 0], [2, 3], [3, 0]]\n",
      "\n",
      "4 [[2, 0], [2, 3], [3, 0], [2, -1]]\n",
      "\n",
      "0\n"
     ]
    }
   ],
   "source": [
    "### silver\n",
    "import copy\n",
    "tot = input()\n",
    "coor = []\n",
    "comfy = []\n",
    "etlist = []\n",
    "toadd = []\n",
    "hyp_coor = []\n",
    "hyp_comfy = []\n",
    "hyp_etlist = []\n",
    "        \n",
    "for i in range(int(tot)):\n",
    "    comfy = []\n",
    "    etlist = []\n",
    "    toadd = []\n",
    "    a = input().split(' ')\n",
    "    a = [int(a[0]),int(a[1])]\n",
    "    coor.append(a)\n",
    "    out = 0\n",
    "    for temp in coor:\n",
    "        x = temp[0]\n",
    "        y = temp[1]\n",
    "        count = 0\n",
    "        et = [0,1,2,3]\n",
    "        try:\n",
    "            coor.index([x,y-1])#down\n",
    "            count += 1\n",
    "            et.remove(0)\n",
    "        except:\n",
    "            pass\n",
    "        try:\n",
    "            coor.index([x-1,y])#left\n",
    "            count += 1\n",
    "            et.remove(1)\n",
    "        except:\n",
    "            pass\n",
    "        try:\n",
    "            coor.index([x+1,y])#right\n",
    "            count += 1\n",
    "            et.remove(2)\n",
    "        except:\n",
    "            pass\n",
    "        try:\n",
    "            coor.index([x,y+1])#up\n",
    "            count += 1\n",
    "            et.remove(3)\n",
    "        except:\n",
    "            pass\n",
    "        if count == 3:\n",
    "            out += 1\n",
    "            comfy.append(temp)\n",
    "            etlist.append(et[0])\n",
    "    print('result', out, comfy)\n",
    "    hyp_coor = copy.deepcopy(coor)\n",
    "    hyp_comfy = copy.deepcopy(comfy)\n",
    "    hyp_etlist = copy.deepcopy(etlist)\n",
    "    while True: #새로운 거 못찾\n",
    "        for temp in hyp_coor:\n",
    "            x = temp[0]\n",
    "            y = temp[1]\n",
    "            count = 0\n",
    "            et = [0,1,2,3]\n",
    "            try:\n",
    "                hyp_coor.index([x,y-1])#down\n",
    "                count += 1\n",
    "                et.remove(0)\n",
    "            except:\n",
    "                pass\n",
    "            try:\n",
    "                hyp_coor.index([x-1,y])#left\n",
    "                count += 1\n",
    "                et.remove(1)\n",
    "            except:\n",
    "                pass\n",
    "            try:\n",
    "                hyp_coor.index([x+1,y])#right\n",
    "                count += 1\n",
    "                et.remove(2)\n",
    "            except:\n",
    "                pass\n",
    "            try:\n",
    "                hyp_coor.index([x,y+1])#up\n",
    "                count += 1\n",
    "                et.remove(3)\n",
    "            except:\n",
    "                pass\n",
    "            if count == 3:\n",
    "                out += 1\n",
    "                hyp_comfy.append(temp)\n",
    "                hyp_etlist.append(et[0])\n",
    "        \n",
    "        for j in range(len(hyp_comfy)):\n",
    "            x = hyp_comfy[j][0]\n",
    "            y = hyp_comfy[j][1]\n",
    "            if hyp_etlist[j] == 0:\n",
    "                y -= 1\n",
    "            elif hyp_etlist[j] == 1:\n",
    "                x -= 1\n",
    "            elif hyp_etlist[j] == 2:\n",
    "                x += 1\n",
    "            elif hyp_etlist[j] == 3:\n",
    "                y += 1\n",
    "            toadd.append([x,y])\n",
    "        tempo = []\n",
    "        for i in toadd:\n",
    "            if i not in tempo:\n",
    "                tempo.append(i)\n",
    "                hyp_coor.append(i)\n",
    "        if hyp_comfy == []:\n",
    "            print(0)\n",
    "            break\n",
    "#         hyp_coor = []\n",
    "        hyp_comfy = []\n",
    "        hyp_etlist = []\n",
    "        \n",
    "        toadd = tempo\n",
    "        print(len(toadd), toadd)\n",
    "        print()"
   ]
  },
  {
   "cell_type": "code",
   "execution_count": 2,
   "metadata": {},
   "outputs": [
    {
     "name": "stdout",
     "output_type": "stream",
     "text": [
      "9\n",
      "0 1\n",
      "         0\n",
      "1 0\n",
      "         0\n",
      "1 1\n",
      "         0\n",
      "1 2\n",
      "         1\n",
      "2 1\n",
      "         0\n",
      "2 2\n",
      "         0\n",
      "3 1\n",
      "         1\n",
      "3 2\n",
      "         2\n",
      "4 1\n",
      "         4\n"
     ]
    }
   ],
   "source": [
    "import copy\n",
    "total_num = input()\n",
    "coor = []\n",
    "\n",
    "def checkCom(k):\n",
    "    count = 0\n",
    "    comfy = []\n",
    "    for i in k:\n",
    "        cnt = 0\n",
    "        \n",
    "        x = i[0]\n",
    "        y = i[1]    \n",
    "        where = [[x,y-1],[x-1,y],[x+1,y],[x,y+1]]\n",
    "        try:\n",
    "            k.index([x,y-1])\n",
    "            cnt +=1\n",
    "            where.remove([x,y-1])\n",
    "        except:\n",
    "            pass\n",
    "        try:\n",
    "            k.index([x-1,y])\n",
    "            cnt +=1\n",
    "            where.remove([x-1,y])\n",
    "        except:\n",
    "            pass\n",
    "        try:\n",
    "            k.index([x+1,y])\n",
    "            cnt +=1\n",
    "            where.remove([x+1,y])\n",
    "        except:\n",
    "            pass\n",
    "        try:\n",
    "            k.index([x,y+1])\n",
    "            cnt +=1\n",
    "            where.remove([x,y+1])\n",
    "        except:\n",
    "            pass\n",
    "        if cnt == 3:\n",
    "            count +=1\n",
    "            comfy.append(where[0]) \n",
    "    return count,comfy\n",
    "\n",
    "for i in range(int(total_num)):\n",
    "    append_num = 0\n",
    "    a = input().split(' ')\n",
    "    a = [int(a[0]),int(a[1])]\n",
    "    coor.append(a)\n",
    "    result = checkCom(coor)\n",
    "    count = result[0]\n",
    "    compy = result[1]\n",
    "    \n",
    "    tmp_coor = copy.deepcopy(coor)\n",
    "    while count > 0:\n",
    "        count -=1\n",
    "        append_num +=1\n",
    "        tmp_coor.append(compy.pop())\n",
    "        new_result = checkCom(tmp_coor)\n",
    "        \n",
    "        if new_result[0] >= count:\n",
    "            count = new_result[0]\n",
    "        for i in new_result[1]:\n",
    "            if i not in compy:\n",
    "                compy.append(i)\n",
    "        \n",
    "        \n",
    "    print(\"        \", append_num)"
   ]
  },
  {
   "cell_type": "code",
   "execution_count": null,
   "metadata": {},
   "outputs": [],
   "source": [
    "# x = [1,5,3,2,3,5]\n",
    "x.remove(5)"
   ]
  },
  {
   "cell_type": "code",
   "execution_count": 19,
   "metadata": {},
   "outputs": [
    {
     "data": {
      "text/plain": [
       "[1, 3, 2, 3, 5]"
      ]
     },
     "execution_count": 19,
     "metadata": {},
     "output_type": "execute_result"
    }
   ],
   "source": [
    "x"
   ]
  },
  {
   "cell_type": "code",
   "execution_count": 14,
   "metadata": {},
   "outputs": [
    {
     "name": "stdout",
     "output_type": "stream",
     "text": [
      "[1, 2, 3]\n"
     ]
    }
   ],
   "source": [
    "import copy\n",
    "hello = [1,2,3]\n",
    "bye = copy.deepcopy(hello)\n",
    "bye.append(4)\n",
    "print(hello)"
   ]
  },
  {
   "cell_type": "code",
   "execution_count": 15,
   "metadata": {},
   "outputs": [
    {
     "data": {
      "text/plain": [
       "2771327154696"
      ]
     },
     "execution_count": 15,
     "metadata": {},
     "output_type": "execute_result"
    }
   ],
   "source": [
    "id(bye)"
   ]
  },
  {
   "cell_type": "code",
   "execution_count": 16,
   "metadata": {},
   "outputs": [
    {
     "data": {
      "text/plain": [
       "2771326980168"
      ]
     },
     "execution_count": 16,
     "metadata": {},
     "output_type": "execute_result"
    }
   ],
   "source": [
    "id(hello)"
   ]
  },
  {
   "cell_type": "code",
   "execution_count": 27,
   "metadata": {},
   "outputs": [
    {
     "ename": "TypeError",
     "evalue": "unhashable type: 'list'",
     "output_type": "error",
     "traceback": [
      "\u001b[1;31m---------------------------------------------------------------------------\u001b[0m",
      "\u001b[1;31mTypeError\u001b[0m                                 Traceback (most recent call last)",
      "\u001b[1;32m<ipython-input-27-9d20a23fdca5>\u001b[0m in \u001b[0;36m<module>\u001b[1;34m\u001b[0m\n\u001b[0;32m      1\u001b[0m \u001b[0mx\u001b[0m \u001b[1;33m=\u001b[0m \u001b[1;33m[\u001b[0m\u001b[1;33m[\u001b[0m\u001b[1;36m1\u001b[0m\u001b[1;33m,\u001b[0m\u001b[1;36m2\u001b[0m\u001b[1;33m]\u001b[0m\u001b[1;33m,\u001b[0m\u001b[1;33m[\u001b[0m\u001b[1;36m3\u001b[0m\u001b[1;33m,\u001b[0m\u001b[1;36m4\u001b[0m\u001b[1;33m]\u001b[0m\u001b[1;33m,\u001b[0m\u001b[1;36m5\u001b[0m\u001b[1;33m,\u001b[0m\u001b[1;36m1\u001b[0m\u001b[1;33m]\u001b[0m\u001b[1;33m\u001b[0m\u001b[1;33m\u001b[0m\u001b[0m\n\u001b[1;32m----> 2\u001b[1;33m \u001b[0mx\u001b[0m\u001b[1;33m=\u001b[0m \u001b[0mset\u001b[0m\u001b[1;33m(\u001b[0m\u001b[0mx\u001b[0m\u001b[1;33m)\u001b[0m\u001b[1;33m\u001b[0m\u001b[1;33m\u001b[0m\u001b[0m\n\u001b[0m\u001b[0;32m      3\u001b[0m \u001b[0mx\u001b[0m \u001b[1;33m=\u001b[0m \u001b[0mlist\u001b[0m\u001b[1;33m(\u001b[0m\u001b[0mx\u001b[0m\u001b[1;33m)\u001b[0m\u001b[1;33m\u001b[0m\u001b[1;33m\u001b[0m\u001b[0m\n",
      "\u001b[1;31mTypeError\u001b[0m: unhashable type: 'list'"
     ]
    }
   ],
   "source": [
    "x = [[1,2],[3,4],5,1]\n",
    "x= set(x)\n",
    "x = list(x)"
   ]
  },
  {
   "cell_type": "code",
   "execution_count": 21,
   "metadata": {},
   "outputs": [
    {
     "data": {
      "text/plain": [
       "[1, 2, 3, 4, 5]"
      ]
     },
     "execution_count": 21,
     "metadata": {},
     "output_type": "execute_result"
    }
   ],
   "source": [
    "x"
   ]
  },
  {
   "cell_type": "code",
   "execution_count": null,
   "metadata": {},
   "outputs": [],
   "source": []
  }
 ],
 "metadata": {
  "kernelspec": {
   "display_name": "Python 3",
   "language": "python",
   "name": "python3"
  },
  "language_info": {
   "codemirror_mode": {
    "name": "ipython",
    "version": 3
   },
   "file_extension": ".py",
   "mimetype": "text/x-python",
   "name": "python",
   "nbconvert_exporter": "python",
   "pygments_lexer": "ipython3",
   "version": "3.7.4"
  }
 },
 "nbformat": 4,
 "nbformat_minor": 2
}
